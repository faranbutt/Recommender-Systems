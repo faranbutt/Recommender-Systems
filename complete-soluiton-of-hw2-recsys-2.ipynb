{
 "cells": [
  {
   "cell_type": "markdown",
   "id": "aaf10263",
   "metadata": {
    "id": "aaf10263"
   },
   "source": [
    "# ALS applications"
   ]
  },
  {
   "cell_type": "code",
   "execution_count": 1,
   "id": "55f2508c-1142-4771-ada2-0d23f0633bf8",
   "metadata": {
    "execution": {
     "iopub.execute_input": "2025-04-27T11:20:16.209372Z",
     "iopub.status.busy": "2025-04-27T11:20:16.209183Z",
     "iopub.status.idle": "2025-04-27T11:20:16.560239Z",
     "shell.execute_reply": "2025-04-27T11:20:16.559494Z",
     "shell.execute_reply.started": "2025-04-27T11:20:16.209356Z"
    },
    "trusted": true
   },
   "outputs": [],
   "source": [
    "import kagglehub\n",
    "from kagglehub import KaggleDatasetAdapter"
   ]
  },
  {
   "cell_type": "code",
   "execution_count": 2,
   "id": "b5d31821-4c38-4a9b-9dfb-f289fde6edd7",
   "metadata": {
    "execution": {
     "iopub.execute_input": "2025-04-27T11:21:24.104343Z",
     "iopub.status.busy": "2025-04-27T11:21:24.103514Z",
     "iopub.status.idle": "2025-04-27T11:21:26.610236Z",
     "shell.execute_reply": "2025-04-27T11:21:26.609707Z",
     "shell.execute_reply.started": "2025-04-27T11:21:24.104317Z"
    },
    "trusted": true
   },
   "outputs": [
    {
     "name": "stderr",
     "output_type": "stream",
     "text": [
      "/tmp/ipykernel_31/1714063509.py:4: DeprecationWarning: load_dataset is deprecated and will be removed in future version.\n",
      "  df = kagglehub.load_dataset(\n"
     ]
    }
   ],
   "source": [
    "file_path = \"zen_item_to_name.csv\"\n",
    "df = kagglehub.load_dataset(\n",
    "  KaggleDatasetAdapter.PANDAS,\n",
    "  \"farantaimoorbutt/zen-dataseet\",  \n",
    "  file_path\n",
    ")"
   ]
  },
  {
   "cell_type": "markdown",
   "id": "b7468264",
   "metadata": {
    "id": "b7468264"
   },
   "source": [
    "## Dzen dataset\n",
    "\n",
    "Data comes from [dzen.ru](https://dzen.ru/) site and consists of likes which users put to text articles\n",
    "\n",
    "### Columns\n",
    "1. item_id - unique id of an item (article)\n",
    "2. user_id - unique id of a user\n",
    "3. source_id - unique id of an author. If two items have same source_id, then they come from one author\n",
    "4. Name of item is name of the article\n",
    "5. Raw dataset represents user_id and list of item_ids which user liked"
   ]
  },
  {
   "cell_type": "code",
   "execution_count": 1,
   "id": "564cb47b-ba99-40d2-a0c4-9987cefe1253",
   "metadata": {
    "execution": {
     "iopub.execute_input": "2025-04-26T16:03:55.163978Z",
     "iopub.status.busy": "2025-04-26T16:03:55.163725Z",
     "iopub.status.idle": "2025-04-26T16:03:57.617904Z",
     "shell.execute_reply": "2025-04-26T16:03:57.617037Z",
     "shell.execute_reply.started": "2025-04-26T16:03:55.163957Z"
    },
    "id": "564cb47b-ba99-40d2-a0c4-9987cefe1253",
    "outputId": "f606a418-ae87-4b23-9c4b-ed10ae0596b8",
    "trusted": true
   },
   "outputs": [
    {
     "name": "stdout",
     "output_type": "stream",
     "text": [
      "  % Total    % Received % Xferd  Average Speed   Time    Time     Time  Current\n",
      "                                 Dload  Upload   Total   Spent    Left  Speed\n",
      "100   132  100   132    0     0    645      0 --:--:-- --:--:-- --:--:--   647\n",
      "100    17  100    17    0     0     31      0 --:--:-- --:--:-- --:--:--    31\n",
      "100   496    0   496    0     0    420      0 --:--:--  0:00:01 --:--:--   813\n",
      "100 24.0M  100 24.0M    0     0  11.9M      0  0:00:02  0:00:02 --:--:-- 54.8M\n",
      "unzip:  cannot find or open zen_dataset.zip, zen_dataset.zip.zip or zen_dataset.zip.ZIP.\n"
     ]
    }
   ],
   "source": [
    "!curl -O -J -L 'https://www.dropbox.com/s/ia4bvhuqg8kesee/zen_dataset.zip?dl=1'\n",
    "!unzip zen_dataset.zip"
   ]
  },
  {
   "cell_type": "code",
   "execution_count": 87,
   "id": "51630f5f",
   "metadata": {
    "ExecuteTime": {
     "end_time": "2023-06-07T21:31:43.942096Z",
     "start_time": "2023-06-07T21:31:43.139524Z"
    },
    "execution": {
     "iopub.execute_input": "2025-04-27T15:35:59.448920Z",
     "iopub.status.busy": "2025-04-27T15:35:59.448595Z",
     "iopub.status.idle": "2025-04-27T15:35:59.452916Z",
     "shell.execute_reply": "2025-04-27T15:35:59.452227Z",
     "shell.execute_reply.started": "2025-04-27T15:35:59.448900Z"
    },
    "id": "51630f5f",
    "trusted": true
   },
   "outputs": [],
   "source": [
    "import numpy as np\n",
    "import pandas as pd\n",
    "import scipy.sparse as sp\n",
    "from tqdm.notebook import tqdm\n",
    "import ast\n",
    "import torch\n",
    "import time\n",
    "import matplotlib.pyplot as plt\n",
    "from scipy import sparse"
   ]
  },
  {
   "cell_type": "code",
   "execution_count": 5,
   "id": "ccd87c36-3217-4f75-823c-e326e2ea52f1",
   "metadata": {
    "execution": {
     "iopub.execute_input": "2025-04-27T11:21:50.438104Z",
     "iopub.status.busy": "2025-04-27T11:21:50.437723Z",
     "iopub.status.idle": "2025-04-27T11:21:50.443147Z",
     "shell.execute_reply": "2025-04-27T11:21:50.442587Z",
     "shell.execute_reply.started": "2025-04-27T11:21:50.438080Z"
    },
    "trusted": true
   },
   "outputs": [
    {
     "data": {
      "text/plain": [
       "device(type='cuda')"
      ]
     },
     "execution_count": 5,
     "metadata": {},
     "output_type": "execute_result"
    }
   ],
   "source": [
    "gpu = torch.device('cuda')\n",
    "gpu"
   ]
  },
  {
   "cell_type": "markdown",
   "id": "3nItWynNC8Py",
   "metadata": {
    "id": "3nItWynNC8Py"
   },
   "source": []
  },
  {
   "cell_type": "code",
   "execution_count": 6,
   "id": "90965805",
   "metadata": {
    "ExecuteTime": {
     "end_time": "2023-06-07T21:31:45.414950Z",
     "start_time": "2023-06-07T21:31:44.581759Z"
    },
    "execution": {
     "iopub.execute_input": "2025-04-27T11:21:50.608145Z",
     "iopub.status.busy": "2025-04-27T11:21:50.607964Z",
     "iopub.status.idle": "2025-04-27T11:21:52.930718Z",
     "shell.execute_reply": "2025-04-27T11:21:52.930044Z",
     "shell.execute_reply.started": "2025-04-27T11:21:50.608131Z"
    },
    "id": "90965805",
    "trusted": true
   },
   "outputs": [
    {
     "name": "stderr",
     "output_type": "stream",
     "text": [
      "/tmp/ipykernel_31/933663810.py:1: DeprecationWarning: load_dataset is deprecated and will be removed in future version.\n",
      "  item_names =  kagglehub.load_dataset(KaggleDatasetAdapter.PANDAS,\"farantaimoorbutt/zen-dataseet\",'zen_item_to_name.csv')\n",
      "/tmp/ipykernel_31/933663810.py:2: DeprecationWarning: load_dataset is deprecated and will be removed in future version.\n",
      "  item_sources = kagglehub.load_dataset(KaggleDatasetAdapter.PANDAS,\"farantaimoorbutt/zen-dataseet\",'zen_item_to_source.csv')\n",
      "/tmp/ipykernel_31/933663810.py:3: DeprecationWarning: load_dataset is deprecated and will be removed in future version.\n",
      "  dataset = kagglehub.load_dataset(KaggleDatasetAdapter.PANDAS,\"farantaimoorbutt/zen-dataseet\",'zen_ratings.csv')\n"
     ]
    }
   ],
   "source": [
    "item_names =  kagglehub.load_dataset(KaggleDatasetAdapter.PANDAS,\"farantaimoorbutt/zen-dataseet\",'zen_item_to_name.csv')\n",
    "item_sources = kagglehub.load_dataset(KaggleDatasetAdapter.PANDAS,\"farantaimoorbutt/zen-dataseet\",'zen_item_to_source.csv')\n",
    "dataset = kagglehub.load_dataset(KaggleDatasetAdapter.PANDAS,\"farantaimoorbutt/zen-dataseet\",'zen_ratings.csv')"
   ]
  },
  {
   "cell_type": "code",
   "execution_count": 7,
   "id": "c51bbfee-1b4e-4dec-899c-36f0a8bfcd30",
   "metadata": {
    "execution": {
     "iopub.execute_input": "2025-04-27T11:21:53.336544Z",
     "iopub.status.busy": "2025-04-27T11:21:53.336312Z",
     "iopub.status.idle": "2025-04-27T11:21:54.414210Z",
     "shell.execute_reply": "2025-04-27T11:21:54.413568Z",
     "shell.execute_reply.started": "2025-04-27T11:21:53.336526Z"
    },
    "trusted": true
   },
   "outputs": [
    {
     "data": {
      "text/html": [
       "<div>\n",
       "<style scoped>\n",
       "    .dataframe tbody tr th:only-of-type {\n",
       "        vertical-align: middle;\n",
       "    }\n",
       "\n",
       "    .dataframe tbody tr th {\n",
       "        vertical-align: top;\n",
       "    }\n",
       "\n",
       "    .dataframe thead th {\n",
       "        text-align: right;\n",
       "    }\n",
       "</style>\n",
       "<table border=\"1\" class=\"dataframe\">\n",
       "  <thead>\n",
       "    <tr style=\"text-align: right;\">\n",
       "      <th></th>\n",
       "      <th>user_id</th>\n",
       "      <th>item_ids</th>\n",
       "    </tr>\n",
       "  </thead>\n",
       "  <tbody>\n",
       "    <tr>\n",
       "      <th>0</th>\n",
       "      <td>993675863667353526</td>\n",
       "      <td>[15267, 61075, 81203, 17066, 25471, 88427, 638...</td>\n",
       "    </tr>\n",
       "    <tr>\n",
       "      <th>1</th>\n",
       "      <td>4250619547882954185</td>\n",
       "      <td>[4555, 94644, 84972, 17774, 94962, 78217, 2485...</td>\n",
       "    </tr>\n",
       "    <tr>\n",
       "      <th>2</th>\n",
       "      <td>3847785305345691076</td>\n",
       "      <td>[1898, 26703, 16525, 86939, 55017, 31069, 4035...</td>\n",
       "    </tr>\n",
       "    <tr>\n",
       "      <th>3</th>\n",
       "      <td>1785181112918558233</td>\n",
       "      <td>[75601, 102458, 28716, 100694, 5757, 47104, 60...</td>\n",
       "    </tr>\n",
       "    <tr>\n",
       "      <th>4</th>\n",
       "      <td>5078748097863903181</td>\n",
       "      <td>[72260, 40825, 2615, 42549, 379, 100818, 56827...</td>\n",
       "    </tr>\n",
       "  </tbody>\n",
       "</table>\n",
       "</div>"
      ],
      "text/plain": [
       "               user_id                                           item_ids\n",
       "0   993675863667353526  [15267, 61075, 81203, 17066, 25471, 88427, 638...\n",
       "1  4250619547882954185  [4555, 94644, 84972, 17774, 94962, 78217, 2485...\n",
       "2  3847785305345691076  [1898, 26703, 16525, 86939, 55017, 31069, 4035...\n",
       "3  1785181112918558233  [75601, 102458, 28716, 100694, 5757, 47104, 60...\n",
       "4  5078748097863903181  [72260, 40825, 2615, 42549, 379, 100818, 56827..."
      ]
     },
     "execution_count": 7,
     "metadata": {},
     "output_type": "execute_result"
    }
   ],
   "source": [
    "\n",
    "dataset = dataset[:5000]\n",
    "dataset['item_ids'] = dataset['item_ids'].apply(ast.literal_eval)\n",
    "dataset.head()"
   ]
  },
  {
   "cell_type": "code",
   "execution_count": 8,
   "id": "772f1375",
   "metadata": {
    "ExecuteTime": {
     "end_time": "2023-06-07T21:31:46.293533Z",
     "start_time": "2023-06-07T21:31:46.269174Z"
    },
    "execution": {
     "iopub.execute_input": "2025-04-27T11:21:56.662936Z",
     "iopub.status.busy": "2025-04-27T11:21:56.662617Z",
     "iopub.status.idle": "2025-04-27T11:21:56.675645Z",
     "shell.execute_reply": "2025-04-27T11:21:56.675054Z",
     "shell.execute_reply.started": "2025-04-27T11:21:56.662914Z"
    },
    "id": "772f1375",
    "outputId": "b7166c31-72e7-48d5-e7f6-c56f4a55382e",
    "trusted": true
   },
   "outputs": [
    {
     "data": {
      "text/html": [
       "<div>\n",
       "<style scoped>\n",
       "    .dataframe tbody tr th:only-of-type {\n",
       "        vertical-align: middle;\n",
       "    }\n",
       "\n",
       "    .dataframe tbody tr th {\n",
       "        vertical-align: top;\n",
       "    }\n",
       "\n",
       "    .dataframe thead th {\n",
       "        text-align: right;\n",
       "    }\n",
       "</style>\n",
       "<table border=\"1\" class=\"dataframe\">\n",
       "  <thead>\n",
       "    <tr style=\"text-align: right;\">\n",
       "      <th></th>\n",
       "      <th>id</th>\n",
       "      <th>name</th>\n",
       "    </tr>\n",
       "  </thead>\n",
       "  <tbody>\n",
       "    <tr>\n",
       "      <th>0</th>\n",
       "      <td>94962</td>\n",
       "      <td>Что обычно ожидало русских казачек в руках у к...</td>\n",
       "    </tr>\n",
       "    <tr>\n",
       "      <th>1</th>\n",
       "      <td>3972</td>\n",
       "      <td>Почему Россия решила строить новую скоростную ...</td>\n",
       "    </tr>\n",
       "    <tr>\n",
       "      <th>2</th>\n",
       "      <td>94644</td>\n",
       "      <td>5 неприличных фактов об Андрее Макаревиче, кот...</td>\n",
       "    </tr>\n",
       "    <tr>\n",
       "      <th>3</th>\n",
       "      <td>82518</td>\n",
       "      <td>Что стало с красавицей Хмельницкой, которую му...</td>\n",
       "    </tr>\n",
       "    <tr>\n",
       "      <th>4</th>\n",
       "      <td>53264</td>\n",
       "      <td>Понять и Простить: Почему угонщики, бежавшие и...</td>\n",
       "    </tr>\n",
       "    <tr>\n",
       "      <th>...</th>\n",
       "      <td>...</td>\n",
       "      <td>...</td>\n",
       "    </tr>\n",
       "    <tr>\n",
       "      <th>104498</th>\n",
       "      <td>36769</td>\n",
       "      <td>Плюс один источник мифа о рыцарях, неспособных...</td>\n",
       "    </tr>\n",
       "    <tr>\n",
       "      <th>104499</th>\n",
       "      <td>9190</td>\n",
       "      <td>Мой сад - малоуходный</td>\n",
       "    </tr>\n",
       "    <tr>\n",
       "      <th>104500</th>\n",
       "      <td>52731</td>\n",
       "      <td>Купил первую в жизни циркулярную пилу. Честный...</td>\n",
       "    </tr>\n",
       "    <tr>\n",
       "      <th>104501</th>\n",
       "      <td>72660</td>\n",
       "      <td>Решили предложить Марине помощь в лечении ч.10</td>\n",
       "    </tr>\n",
       "    <tr>\n",
       "      <th>104502</th>\n",
       "      <td>53987</td>\n",
       "      <td>Мама и сестра меня предали, я с ними не общаюсь</td>\n",
       "    </tr>\n",
       "  </tbody>\n",
       "</table>\n",
       "<p>104503 rows × 2 columns</p>\n",
       "</div>"
      ],
      "text/plain": [
       "           id                                               name\n",
       "0       94962  Что обычно ожидало русских казачек в руках у к...\n",
       "1        3972  Почему Россия решила строить новую скоростную ...\n",
       "2       94644  5 неприличных фактов об Андрее Макаревиче, кот...\n",
       "3       82518  Что стало с красавицей Хмельницкой, которую му...\n",
       "4       53264  Понять и Простить: Почему угонщики, бежавшие и...\n",
       "...       ...                                                ...\n",
       "104498  36769  Плюс один источник мифа о рыцарях, неспособных...\n",
       "104499   9190                              Мой сад - малоуходный\n",
       "104500  52731  Купил первую в жизни циркулярную пилу. Честный...\n",
       "104501  72660     Решили предложить Марине помощь в лечении ч.10\n",
       "104502  53987    Мама и сестра меня предали, я с ними не общаюсь\n",
       "\n",
       "[104503 rows x 2 columns]"
      ]
     },
     "execution_count": 8,
     "metadata": {},
     "output_type": "execute_result"
    }
   ],
   "source": [
    "item_names"
   ]
  },
  {
   "cell_type": "code",
   "execution_count": 9,
   "id": "cb0aa9e5",
   "metadata": {
    "ExecuteTime": {
     "end_time": "2023-06-07T21:31:47.066054Z",
     "start_time": "2023-06-07T21:31:47.045452Z"
    },
    "execution": {
     "iopub.execute_input": "2025-04-27T11:21:59.375840Z",
     "iopub.status.busy": "2025-04-27T11:21:59.375171Z",
     "iopub.status.idle": "2025-04-27T11:21:59.384821Z",
     "shell.execute_reply": "2025-04-27T11:21:59.384092Z",
     "shell.execute_reply.started": "2025-04-27T11:21:59.375814Z"
    },
    "id": "cb0aa9e5",
    "outputId": "33e31f58-3b31-4c6e-be22-9106cd6bfd11",
    "trusted": true
   },
   "outputs": [
    {
     "data": {
      "text/html": [
       "<div>\n",
       "<style scoped>\n",
       "    .dataframe tbody tr th:only-of-type {\n",
       "        vertical-align: middle;\n",
       "    }\n",
       "\n",
       "    .dataframe tbody tr th {\n",
       "        vertical-align: top;\n",
       "    }\n",
       "\n",
       "    .dataframe thead th {\n",
       "        text-align: right;\n",
       "    }\n",
       "</style>\n",
       "<table border=\"1\" class=\"dataframe\">\n",
       "  <thead>\n",
       "    <tr style=\"text-align: right;\">\n",
       "      <th></th>\n",
       "      <th>id</th>\n",
       "      <th>source</th>\n",
       "    </tr>\n",
       "  </thead>\n",
       "  <tbody>\n",
       "    <tr>\n",
       "      <th>0</th>\n",
       "      <td>94962</td>\n",
       "      <td>2919814402697966089</td>\n",
       "    </tr>\n",
       "    <tr>\n",
       "      <th>1</th>\n",
       "      <td>3972</td>\n",
       "      <td>3263022753228392991</td>\n",
       "    </tr>\n",
       "    <tr>\n",
       "      <th>2</th>\n",
       "      <td>94644</td>\n",
       "      <td>-3857390427602554682</td>\n",
       "    </tr>\n",
       "    <tr>\n",
       "      <th>3</th>\n",
       "      <td>82518</td>\n",
       "      <td>-9036908390349249792</td>\n",
       "    </tr>\n",
       "    <tr>\n",
       "      <th>4</th>\n",
       "      <td>53264</td>\n",
       "      <td>3353856219169766284</td>\n",
       "    </tr>\n",
       "    <tr>\n",
       "      <th>...</th>\n",
       "      <td>...</td>\n",
       "      <td>...</td>\n",
       "    </tr>\n",
       "    <tr>\n",
       "      <th>104498</th>\n",
       "      <td>36769</td>\n",
       "      <td>3818746211375738614</td>\n",
       "    </tr>\n",
       "    <tr>\n",
       "      <th>104499</th>\n",
       "      <td>9190</td>\n",
       "      <td>4975535765688979937</td>\n",
       "    </tr>\n",
       "    <tr>\n",
       "      <th>104500</th>\n",
       "      <td>52731</td>\n",
       "      <td>3720366796439288909</td>\n",
       "    </tr>\n",
       "    <tr>\n",
       "      <th>104501</th>\n",
       "      <td>72660</td>\n",
       "      <td>-7860042973720636310</td>\n",
       "    </tr>\n",
       "    <tr>\n",
       "      <th>104502</th>\n",
       "      <td>53987</td>\n",
       "      <td>-1613465697218833842</td>\n",
       "    </tr>\n",
       "  </tbody>\n",
       "</table>\n",
       "<p>104503 rows × 2 columns</p>\n",
       "</div>"
      ],
      "text/plain": [
       "           id               source\n",
       "0       94962  2919814402697966089\n",
       "1        3972  3263022753228392991\n",
       "2       94644 -3857390427602554682\n",
       "3       82518 -9036908390349249792\n",
       "4       53264  3353856219169766284\n",
       "...       ...                  ...\n",
       "104498  36769  3818746211375738614\n",
       "104499   9190  4975535765688979937\n",
       "104500  52731  3720366796439288909\n",
       "104501  72660 -7860042973720636310\n",
       "104502  53987 -1613465697218833842\n",
       "\n",
       "[104503 rows x 2 columns]"
      ]
     },
     "execution_count": 9,
     "metadata": {},
     "output_type": "execute_result"
    }
   ],
   "source": [
    "item_sources"
   ]
  },
  {
   "cell_type": "code",
   "execution_count": 10,
   "id": "f788e369",
   "metadata": {
    "ExecuteTime": {
     "end_time": "2023-06-07T21:31:47.943529Z",
     "start_time": "2023-06-07T21:31:47.920699Z"
    },
    "execution": {
     "iopub.execute_input": "2025-04-27T11:22:01.755628Z",
     "iopub.status.busy": "2025-04-27T11:22:01.755355Z",
     "iopub.status.idle": "2025-04-27T11:22:01.767592Z",
     "shell.execute_reply": "2025-04-27T11:22:01.766929Z",
     "shell.execute_reply.started": "2025-04-27T11:22:01.755608Z"
    },
    "id": "f788e369",
    "outputId": "267242af-b3f7-4a59-d217-e8e047d28561",
    "trusted": true
   },
   "outputs": [
    {
     "data": {
      "text/html": [
       "<div>\n",
       "<style scoped>\n",
       "    .dataframe tbody tr th:only-of-type {\n",
       "        vertical-align: middle;\n",
       "    }\n",
       "\n",
       "    .dataframe tbody tr th {\n",
       "        vertical-align: top;\n",
       "    }\n",
       "\n",
       "    .dataframe thead th {\n",
       "        text-align: right;\n",
       "    }\n",
       "</style>\n",
       "<table border=\"1\" class=\"dataframe\">\n",
       "  <thead>\n",
       "    <tr style=\"text-align: right;\">\n",
       "      <th></th>\n",
       "      <th>user_id</th>\n",
       "      <th>item_ids</th>\n",
       "    </tr>\n",
       "  </thead>\n",
       "  <tbody>\n",
       "    <tr>\n",
       "      <th>0</th>\n",
       "      <td>993675863667353526</td>\n",
       "      <td>[15267, 61075, 81203, 17066, 25471, 88427, 638...</td>\n",
       "    </tr>\n",
       "    <tr>\n",
       "      <th>1</th>\n",
       "      <td>4250619547882954185</td>\n",
       "      <td>[4555, 94644, 84972, 17774, 94962, 78217, 2485...</td>\n",
       "    </tr>\n",
       "    <tr>\n",
       "      <th>2</th>\n",
       "      <td>3847785305345691076</td>\n",
       "      <td>[1898, 26703, 16525, 86939, 55017, 31069, 4035...</td>\n",
       "    </tr>\n",
       "    <tr>\n",
       "      <th>3</th>\n",
       "      <td>1785181112918558233</td>\n",
       "      <td>[75601, 102458, 28716, 100694, 5757, 47104, 60...</td>\n",
       "    </tr>\n",
       "    <tr>\n",
       "      <th>4</th>\n",
       "      <td>5078748097863903181</td>\n",
       "      <td>[72260, 40825, 2615, 42549, 379, 100818, 56827...</td>\n",
       "    </tr>\n",
       "    <tr>\n",
       "      <th>...</th>\n",
       "      <td>...</td>\n",
       "      <td>...</td>\n",
       "    </tr>\n",
       "    <tr>\n",
       "      <th>4995</th>\n",
       "      <td>1783247335571225144</td>\n",
       "      <td>[58649, 40423, 8706, 80540, 48042, 6527, 82238...</td>\n",
       "    </tr>\n",
       "    <tr>\n",
       "      <th>4996</th>\n",
       "      <td>435401615695014005</td>\n",
       "      <td>[96085, 16607, 100349, 104327, 86713, 99974, 5...</td>\n",
       "    </tr>\n",
       "    <tr>\n",
       "      <th>4997</th>\n",
       "      <td>2324486976962366344</td>\n",
       "      <td>[54393, 1527, 38651, 38488, 93694, 54932, 5925...</td>\n",
       "    </tr>\n",
       "    <tr>\n",
       "      <th>4998</th>\n",
       "      <td>1084392302990541991</td>\n",
       "      <td>[54372, 93575, 9661, 69953, 73912, 44480, 1566...</td>\n",
       "    </tr>\n",
       "    <tr>\n",
       "      <th>4999</th>\n",
       "      <td>8472428046632952269</td>\n",
       "      <td>[81887, 100322, 23129, 19512, 27679, 102630, 3...</td>\n",
       "    </tr>\n",
       "  </tbody>\n",
       "</table>\n",
       "<p>5000 rows × 2 columns</p>\n",
       "</div>"
      ],
      "text/plain": [
       "                  user_id                                           item_ids\n",
       "0      993675863667353526  [15267, 61075, 81203, 17066, 25471, 88427, 638...\n",
       "1     4250619547882954185  [4555, 94644, 84972, 17774, 94962, 78217, 2485...\n",
       "2     3847785305345691076  [1898, 26703, 16525, 86939, 55017, 31069, 4035...\n",
       "3     1785181112918558233  [75601, 102458, 28716, 100694, 5757, 47104, 60...\n",
       "4     5078748097863903181  [72260, 40825, 2615, 42549, 379, 100818, 56827...\n",
       "...                   ...                                                ...\n",
       "4995  1783247335571225144  [58649, 40423, 8706, 80540, 48042, 6527, 82238...\n",
       "4996   435401615695014005  [96085, 16607, 100349, 104327, 86713, 99974, 5...\n",
       "4997  2324486976962366344  [54393, 1527, 38651, 38488, 93694, 54932, 5925...\n",
       "4998  1084392302990541991  [54372, 93575, 9661, 69953, 73912, 44480, 1566...\n",
       "4999  8472428046632952269  [81887, 100322, 23129, 19512, 27679, 102630, 3...\n",
       "\n",
       "[5000 rows x 2 columns]"
      ]
     },
     "execution_count": 10,
     "metadata": {},
     "output_type": "execute_result"
    }
   ],
   "source": [
    "dataset"
   ]
  },
  {
   "cell_type": "code",
   "execution_count": 11,
   "id": "e8820e36",
   "metadata": {
    "ExecuteTime": {
     "end_time": "2023-06-07T21:31:55.339206Z",
     "start_time": "2023-06-07T21:31:51.973369Z"
    },
    "colab": {
     "referenced_widgets": [
      "8a5a8ae4cb8b4ea4911a57ce4a09dbb9"
     ]
    },
    "execution": {
     "iopub.execute_input": "2025-04-27T11:22:07.232286Z",
     "iopub.status.busy": "2025-04-27T11:22:07.232031Z",
     "iopub.status.idle": "2025-04-27T11:22:07.638960Z",
     "shell.execute_reply": "2025-04-27T11:22:07.638429Z",
     "shell.execute_reply.started": "2025-04-27T11:22:07.232270Z"
    },
    "id": "e8820e36",
    "outputId": "1d425f2c-550a-4dfc-95f7-615e5b4e47c5",
    "trusted": true
   },
   "outputs": [
    {
     "data": {
      "application/vnd.jupyter.widget-view+json": {
       "model_id": "c635469988eb4e4f944aaf45dfa438ff",
       "version_major": 2,
       "version_minor": 0
      },
      "text/plain": [
       "  0%|          | 0/5000 [00:00<?, ?it/s]"
      ]
     },
     "metadata": {},
     "output_type": "display_data"
    }
   ],
   "source": [
    "total_interactions_count = dataset.item_ids.map(len).sum()\n",
    "\n",
    "user_coo = np.zeros(total_interactions_count, dtype=np.int64)\n",
    "item_coo = np.zeros(total_interactions_count, dtype=np.int64)\n",
    "\n",
    "pos = 0\n",
    "for user_id, item_ids in enumerate(tqdm(dataset.item_ids)):\n",
    "    user_coo[pos : pos + len(item_ids)] = user_id\n",
    "    item_coo[pos : pos + len(item_ids)] = item_ids\n",
    "    pos += len(item_ids)\n",
    "\n",
    "shape = (max(user_coo) + 1, max(item_coo) + 1)\n",
    "user_item_matrix = sp.coo_matrix(\n",
    "    (np.ones(len(user_coo)), (user_coo, item_coo)), shape=shape\n",
    ").tocsr()\n",
    "\n",
    "# Save for reuse\n",
    "sp.save_npz(\"data_train.npz\", user_item_matrix)\n",
    "\n",
    "# Cleanup memory\n",
    "del user_coo\n",
    "del item_coo\n",
    "del dataset\n"
   ]
  },
  {
   "cell_type": "code",
   "execution_count": 12,
   "id": "b694e04f",
   "metadata": {
    "ExecuteTime": {
     "end_time": "2023-06-07T21:32:04.714869Z",
     "start_time": "2023-06-07T21:32:04.568491Z"
    },
    "execution": {
     "iopub.execute_input": "2025-04-27T11:22:09.349578Z",
     "iopub.status.busy": "2025-04-27T11:22:09.348945Z",
     "iopub.status.idle": "2025-04-27T11:22:09.373695Z",
     "shell.execute_reply": "2025-04-27T11:22:09.372869Z",
     "shell.execute_reply.started": "2025-04-27T11:22:09.349555Z"
    },
    "id": "b694e04f",
    "trusted": true
   },
   "outputs": [],
   "source": [
    "# you could start here if you already done precomputing\n",
    "user_item_matrix = sp.load_npz(\"data_train.npz\")"
   ]
  },
  {
   "cell_type": "code",
   "execution_count": 13,
   "id": "2eacfa5e",
   "metadata": {
    "ExecuteTime": {
     "end_time": "2023-06-07T21:32:17.252065Z",
     "start_time": "2023-06-07T21:32:17.239886Z"
    },
    "execution": {
     "iopub.execute_input": "2025-04-27T11:22:11.077860Z",
     "iopub.status.busy": "2025-04-27T11:22:11.077168Z",
     "iopub.status.idle": "2025-04-27T11:22:11.082434Z",
     "shell.execute_reply": "2025-04-27T11:22:11.081922Z",
     "shell.execute_reply.started": "2025-04-27T11:22:11.077836Z"
    },
    "id": "2eacfa5e",
    "outputId": "01972345-f92b-403e-9072-c9d3ecb321fb",
    "trusted": true
   },
   "outputs": [
    {
     "data": {
      "text/plain": [
       "<Compressed Sparse Row sparse matrix of dtype 'float64'\n",
       "\twith 378009 stored elements and shape (5000, 104503)>"
      ]
     },
     "execution_count": 13,
     "metadata": {},
     "output_type": "execute_result"
    }
   ],
   "source": [
    "user_item_matrix"
   ]
  },
  {
   "cell_type": "code",
   "execution_count": 14,
   "id": "b7d5e4d1-cfcd-4abd-8d7e-b920bd3295b1",
   "metadata": {
    "execution": {
     "iopub.execute_input": "2025-04-27T11:22:12.508944Z",
     "iopub.status.busy": "2025-04-27T11:22:12.508690Z",
     "iopub.status.idle": "2025-04-27T11:22:12.512456Z",
     "shell.execute_reply": "2025-04-27T11:22:12.511794Z",
     "shell.execute_reply.started": "2025-04-27T11:22:12.508927Z"
    },
    "id": "b7d5e4d1-cfcd-4abd-8d7e-b920bd3295b1",
    "trusted": true
   },
   "outputs": [],
   "source": [
    "def sparce_matrix_report(matrix):\n",
    "    print('Size of raw data:', matrix.data.nbytes / 10**6, 'Mb')\n",
    "    print('Feedback matrix size:', matrix.shape)"
   ]
  },
  {
   "cell_type": "code",
   "execution_count": 15,
   "id": "d3992814-d1da-48c9-b42e-0c8b596de5ad",
   "metadata": {
    "execution": {
     "iopub.execute_input": "2025-04-27T11:22:14.655457Z",
     "iopub.status.busy": "2025-04-27T11:22:14.655208Z",
     "iopub.status.idle": "2025-04-27T11:22:14.659501Z",
     "shell.execute_reply": "2025-04-27T11:22:14.658848Z",
     "shell.execute_reply.started": "2025-04-27T11:22:14.655439Z"
    },
    "id": "d3992814-d1da-48c9-b42e-0c8b596de5ad",
    "outputId": "b76e18d6-03c2-486a-f191-0f97f10dddd2",
    "trusted": true
   },
   "outputs": [
    {
     "name": "stdout",
     "output_type": "stream",
     "text": [
      "Size of raw data: 3.024072 Mb\n",
      "Feedback matrix size: (5000, 104503)\n"
     ]
    }
   ],
   "source": [
    "sparce_matrix_report(user_item_matrix)"
   ]
  },
  {
   "cell_type": "code",
   "execution_count": 16,
   "id": "4cd37f54",
   "metadata": {
    "ExecuteTime": {
     "end_time": "2023-06-07T21:32:24.023986Z",
     "start_time": "2023-06-07T21:32:23.942940Z"
    },
    "execution": {
     "iopub.execute_input": "2025-04-27T11:22:17.244052Z",
     "iopub.status.busy": "2025-04-27T11:22:17.243500Z",
     "iopub.status.idle": "2025-04-27T11:22:17.266424Z",
     "shell.execute_reply": "2025-04-27T11:22:17.265701Z",
     "shell.execute_reply.started": "2025-04-27T11:22:17.244027Z"
    },
    "id": "4cd37f54",
    "trusted": true
   },
   "outputs": [],
   "source": [
    "item_weights = np.array(user_item_matrix.tocsc().sum(0))[0]\n",
    "top_to_bottom_order = np.argsort(-item_weights)\n",
    "item_mapping = np.empty(top_to_bottom_order.shape, dtype=int)\n",
    "item_mapping[top_to_bottom_order] = np.arange(len(top_to_bottom_order))\n",
    "total_item_count = (item_weights > 0).sum()\n",
    "total_user_count = user_item_matrix.shape[0]\n",
    "\n",
    "\n",
    "def build_debug_dataset(user_item_matrix, item_pct: float, user_pct: float):\n",
    "    '''Get given percent of top rated items and given percent of random users'''\n",
    "    user_count = int(total_user_count * user_pct),\n",
    "    item_count = int(total_item_count * item_pct)\n",
    "    item_ids = top_to_bottom_order[:item_count]\n",
    "    user_ids = np.random.choice(\n",
    "        np.arange(user_item_matrix.shape[0]), size=user_count, replace=False\n",
    "    )\n",
    "    train = user_item_matrix[user_ids]\n",
    "    train = train[:, item_ids]\n",
    "    return train\n"
   ]
  },
  {
   "cell_type": "code",
   "execution_count": 17,
   "id": "820abbd7-d8f2-42df-aa6a-e3a6e360c94d",
   "metadata": {
    "ExecuteTime": {
     "end_time": "2023-06-07T21:32:24.803339Z",
     "start_time": "2023-06-07T21:32:24.782858Z"
    },
    "execution": {
     "iopub.execute_input": "2025-04-27T11:22:18.846280Z",
     "iopub.status.busy": "2025-04-27T11:22:18.845766Z",
     "iopub.status.idle": "2025-04-27T11:22:18.851871Z",
     "shell.execute_reply": "2025-04-27T11:22:18.851272Z",
     "shell.execute_reply.started": "2025-04-27T11:22:18.846259Z"
    },
    "id": "820abbd7-d8f2-42df-aa6a-e3a6e360c94d",
    "outputId": "058d482a-949a-4162-83c7-9d274d7f444a",
    "trusted": true
   },
   "outputs": [
    {
     "name": "stdout",
     "output_type": "stream",
     "text": [
      "Size of raw data: 0.160144 Mb\n",
      "Feedback matrix size: (500, 6445)\n"
     ]
    }
   ],
   "source": [
    "debug_dataset = build_debug_dataset(user_item_matrix, 0.1, 0.1)\n",
    "\n",
    "sparce_matrix_report(debug_dataset)"
   ]
  },
  {
   "cell_type": "markdown",
   "id": "8f5d59e1",
   "metadata": {
    "id": "8f5d59e1"
   },
   "source": [
    "This is useful for debugging (just to save time).\n",
    "\n",
    "**Final answers should use full dataset!!!**"
   ]
  },
  {
   "cell_type": "markdown",
   "id": "536eb9ab",
   "metadata": {
    "id": "536eb9ab"
   },
   "source": [
    "## Split dataset matrix (5 points)\n",
    "\n",
    "in the following way: for 20% of users (random) remove one like - this will be test data. The rest is train data."
   ]
  },
  {
   "cell_type": "code",
   "execution_count": 18,
   "id": "95714ebd",
   "metadata": {
    "ExecuteTime": {
     "end_time": "2023-11-06T04:49:46.392558Z",
     "start_time": "2023-11-06T04:49:46.385337Z"
    },
    "execution": {
     "iopub.execute_input": "2025-04-27T11:22:22.750606Z",
     "iopub.status.busy": "2025-04-27T11:22:22.749973Z",
     "iopub.status.idle": "2025-04-27T11:22:22.755511Z",
     "shell.execute_reply": "2025-04-27T11:22:22.754794Z",
     "shell.execute_reply.started": "2025-04-27T11:22:22.750580Z"
    },
    "id": "95714ebd",
    "trusted": true
   },
   "outputs": [],
   "source": [
    "def split_data(user_item_matrix, test_user_pct=0.2, seed=42):\n",
    "    np.random.seed(seed)\n",
    "    all_users = np.arange(user_item_matrix.shape[0])\n",
    "    test_users = np.random.choice(all_users, size=int(len(all_users) * test_user_pct), replace=False)\n",
    "    train_matrix = user_item_matrix.copy()\n",
    "    test_matrix = sp.lil_matrix(user_item_matrix.shape, dtype=np.float32) \n",
    "    for user in tqdm(test_users, desc=\"Splitting interactions\"):\n",
    "        user_likes = user_item_matrix[user].nonzero()[1]\n",
    "        \n",
    "        if len(user_likes) == 0:\n",
    "            continue\n",
    "        test_item = np.random.choice(user_likes)\n",
    "        train_matrix[user, test_item] = 0\n",
    "        test_matrix[user, test_item] = 1.0\n",
    "    train_matrix.eliminate_zeros()\n",
    "    test_matrix = test_matrix.tocsr()\n",
    "\n",
    "    return train_matrix, test_matrix\n"
   ]
  },
  {
   "cell_type": "code",
   "execution_count": 20,
   "id": "e7bbfe9c",
   "metadata": {
    "execution": {
     "iopub.execute_input": "2025-04-27T11:22:38.729681Z",
     "iopub.status.busy": "2025-04-27T11:22:38.729403Z",
     "iopub.status.idle": "2025-04-27T11:22:38.964376Z",
     "shell.execute_reply": "2025-04-27T11:22:38.963696Z",
     "shell.execute_reply.started": "2025-04-27T11:22:38.729644Z"
    },
    "id": "e7bbfe9c",
    "trusted": true
   },
   "outputs": [
    {
     "data": {
      "application/vnd.jupyter.widget-view+json": {
       "model_id": "724565044b424ddbba4f30c2e9a75df8",
       "version_major": 2,
       "version_minor": 0
      },
      "text/plain": [
       "Splitting interactions:   0%|          | 0/1000 [00:00<?, ?it/s]"
      ]
     },
     "metadata": {},
     "output_type": "display_data"
    }
   ],
   "source": [
    "train_ratings, test_ratings = split_data(user_item_matrix)"
   ]
  },
  {
   "cell_type": "markdown",
   "id": "f5b28d83-5329-4efc-9045-c4547388351f",
   "metadata": {},
   "source": [
    "# ALS"
   ]
  },
  {
   "cell_type": "code",
   "execution_count": 21,
   "id": "2763312f-3db5-4bcf-9fe3-172e4b878ad5",
   "metadata": {
    "execution": {
     "iopub.execute_input": "2025-04-27T11:23:07.916920Z",
     "iopub.status.busy": "2025-04-27T11:23:07.916615Z",
     "iopub.status.idle": "2025-04-27T11:23:07.928407Z",
     "shell.execute_reply": "2025-04-27T11:23:07.927836Z",
     "shell.execute_reply.started": "2025-04-27T11:23:07.916900Z"
    },
    "trusted": true
   },
   "outputs": [],
   "source": [
    "class ALS:\n",
    "    def __init__(self, train_matrix, test_matrix=None, device='cuda'):\n",
    "        self.train_matrix = train_matrix\n",
    "        self.test_matrix = test_matrix\n",
    "        self.device = device if torch.cuda.is_available() else 'cpu'\n",
    "\n",
    "        self.num_users, self.num_items = train_matrix.shape\n",
    "\n",
    "    def train(self, k=96, lam=0.1, iterations=15):\n",
    "        self.k = k\n",
    "        self.lam = lam\n",
    "        self.user_embeddings = torch.randn(self.num_users, k, device=self.device) * 0.01\n",
    "        self.item_embeddings = torch.randn(self.num_items, k, device=self.device) * 0.01\n",
    "        self.train_matrix_csr = self.train_matrix.tocsr()\n",
    "        self.train_matrix_csc = self.train_matrix.tocsc()\n",
    "        loss_values = []\n",
    "        print(\"Start ALS\")\n",
    "        for it in range(1, iterations + 1):\n",
    "            start_time = time.time()\n",
    "\n",
    "            self._update_user_embeddings()\n",
    "            self._update_item_embeddings()\n",
    "\n",
    "            mse = self._compute_mse()\n",
    "            loss_values.append(mse)\n",
    "\n",
    "            elapsed = time.time() - start_time\n",
    "            print(f\"[Iteration {it}/{iterations}] MSE: {mse:.5f} | Time: {elapsed:.2f}s\")\n",
    "\n",
    "        print(\"ALS finished\")\n",
    "        return self.user_embeddings, self.item_embeddings, loss_values\n",
    "\n",
    "    def _update_user_embeddings(self):\n",
    "        I = torch.eye(self.k, device=self.device)\n",
    "        Y = self.item_embeddings\n",
    "\n",
    "        for user in range(self.num_users):\n",
    "            start, end = self.train_matrix_csr.indptr[user], self.train_matrix_csr.indptr[user+1]\n",
    "            item_ids = self.train_matrix_csr.indices[start:end]\n",
    "\n",
    "            if len(item_ids) == 0:\n",
    "                continue\n",
    "\n",
    "            Y_u = Y[item_ids]\n",
    "            A = Y_u.t() @ Y_u + self.lam * len(item_ids) * I\n",
    "            b = Y_u.sum(0)\n",
    "\n",
    "            self.user_embeddings[user] = torch.linalg.solve(A, b)\n",
    "    def _update_item_embeddings(self):\n",
    "        I = torch.eye(self.k, device=self.device)\n",
    "        X = self.user_embeddings\n",
    "\n",
    "        for item in range(self.num_items):\n",
    "            start, end = self.train_matrix_csc.indptr[item], self.train_matrix_csc.indptr[item+1]\n",
    "            user_ids = self.train_matrix_csc.indices[start:end]\n",
    "\n",
    "            if len(user_ids) == 0:\n",
    "                continue\n",
    "\n",
    "            X_i = X[user_ids]\n",
    "            A = X_i.t() @ X_i + self.lam * len(user_ids) * I\n",
    "            b = X_i.sum(0)\n",
    "\n",
    "            self.item_embeddings[item] = torch.linalg.solve(A, b)\n",
    "    def _compute_mse(self):\n",
    "        X = self.user_embeddings\n",
    "        Y = self.item_embeddings\n",
    "        mse = 0\n",
    "        count = 0\n",
    "\n",
    "        if self.test_matrix is None:\n",
    "            return 0.0\n",
    "\n",
    "        test_csr = self.test_matrix.tocsr()\n",
    "\n",
    "        for user in range(test_csr.shape[0]):\n",
    "            start, end = test_csr.indptr[user], test_csr.indptr[user+1]\n",
    "            item_ids = test_csr.indices[start:end]\n",
    "\n",
    "            if len(item_ids) == 0:\n",
    "                continue\n",
    "\n",
    "            preds = (X[user] @ Y[item_ids].T).detach().cpu().numpy()\n",
    "            mse += np.sum((preds - 1) ** 2)\n",
    "            count += len(item_ids)\n",
    "\n",
    "        return mse / max(count, 1)"
   ]
  },
  {
   "cell_type": "code",
   "execution_count": 22,
   "id": "604aaf38-ff7b-4ea7-8d0d-a622f7914d84",
   "metadata": {
    "execution": {
     "iopub.execute_input": "2025-04-27T11:23:10.531772Z",
     "iopub.status.busy": "2025-04-27T11:23:10.531479Z",
     "iopub.status.idle": "2025-04-27T11:27:53.700298Z",
     "shell.execute_reply": "2025-04-27T11:27:53.699696Z",
     "shell.execute_reply.started": "2025-04-27T11:23:10.531750Z"
    },
    "trusted": true
   },
   "outputs": [
    {
     "name": "stdout",
     "output_type": "stream",
     "text": [
      "Start ALS\n",
      "[Iteration 1/10] MSE: 0.99350 | Time: 28.82s\n",
      "[Iteration 2/10] MSE: 0.19583 | Time: 28.26s\n",
      "[Iteration 3/10] MSE: 0.08645 | Time: 28.23s\n",
      "[Iteration 4/10] MSE: 0.06741 | Time: 28.24s\n",
      "[Iteration 5/10] MSE: 0.06333 | Time: 28.28s\n",
      "[Iteration 6/10] MSE: 0.06219 | Time: 28.15s\n",
      "[Iteration 7/10] MSE: 0.06180 | Time: 28.28s\n",
      "[Iteration 8/10] MSE: 0.06163 | Time: 28.25s\n",
      "[Iteration 9/10] MSE: 0.06156 | Time: 28.18s\n",
      "[Iteration 10/10] MSE: 0.06152 | Time: 28.15s\n",
      "ALS finished\n"
     ]
    }
   ],
   "source": [
    "als = ALS(train_ratings, test_ratings)\n",
    "\n",
    "k = 96\n",
    "lam = 0.1\n",
    "iterations = 10\n",
    "\n",
    "user_embeddings, item_embeddings, loss_values = als.train(k, lam, iterations)\n"
   ]
  },
  {
   "cell_type": "code",
   "execution_count": 24,
   "id": "f1cb1c90-b89c-4607-a4cf-13e9d7149389",
   "metadata": {
    "execution": {
     "iopub.execute_input": "2025-04-27T11:28:11.591226Z",
     "iopub.status.busy": "2025-04-27T11:28:11.590517Z",
     "iopub.status.idle": "2025-04-27T11:28:11.719475Z",
     "shell.execute_reply": "2025-04-27T11:28:11.718914Z",
     "shell.execute_reply.started": "2025-04-27T11:28:11.591201Z"
    },
    "trusted": true
   },
   "outputs": [
    {
     "data": {
      "image/png": "[encoded data removed]",
      "text/plain": [
       "<Figure size 640x480 with 1 Axes>"
      ]
     },
     "metadata": {},
     "output_type": "display_data"
    }
   ],
   "source": [
    "plt.plot(loss_values)\n",
    "plt.title(\"MSE for ALS\")\n",
    "plt.xlabel(\"iter\")\n",
    "plt.ylabel(\"value\")\n",
    "plt.grid()\n",
    "plt.show()"
   ]
  },
  {
   "cell_type": "markdown",
   "id": "e8ed4c71-6501-4d34-951b-faf6fd4ce897",
   "metadata": {
    "id": "e8ed4c71-6501-4d34-951b-faf6fd4ce897"
   },
   "source": [
    "## Implement IALS (10 points each)\n",
    "\n",
    "Note that due to size of data you need to implement algorithm with _sparce matrices_!\n",
    "\n",
    "You are welcome to use classes like on the seminar:)"
   ]
  },
  {
   "cell_type": "code",
   "execution_count": 25,
   "id": "1dabd10a-7927-41a3-b5c4-9df6f7b33e95",
   "metadata": {
    "execution": {
     "iopub.execute_input": "2025-04-27T11:29:08.732615Z",
     "iopub.status.busy": "2025-04-27T11:29:08.732270Z",
     "iopub.status.idle": "2025-04-27T11:29:08.744492Z",
     "shell.execute_reply": "2025-04-27T11:29:08.743693Z",
     "shell.execute_reply.started": "2025-04-27T11:29:08.732589Z"
    },
    "trusted": true
   },
   "outputs": [],
   "source": [
    "class IALS:\n",
    "    def __init__(self, train_matrix, test_matrix=None, device='cuda'):\n",
    "        self.train_matrix = train_matrix\n",
    "        self.test_matrix = test_matrix\n",
    "        self.device = device if torch.cuda.is_available() else 'cpu'\n",
    "\n",
    "        self.num_users, self.num_items = train_matrix.shape\n",
    "\n",
    "    def train(self, k=96, lam=0.1, iterations=15, alpha=40):\n",
    "        self.k = k\n",
    "        self.lam = lam\n",
    "        self.alpha = alpha\n",
    "        self.user_embeddings = torch.randn(self.num_users, k, device=self.device) * 0.01\n",
    "        self.item_embeddings = torch.randn(self.num_items, k, device=self.device) * 0.01\n",
    "        self.train_csr = self.train_matrix.tocsr()\n",
    "        self.train_csc = self.train_matrix.tocsc()\n",
    "\n",
    "        loss_values = []\n",
    "\n",
    "        print(\"IALS start\")\n",
    "        for it in range(1, iterations + 1):\n",
    "            start_time = time.time()\n",
    "\n",
    "            self._update_user_embeddings()\n",
    "            self._update_item_embeddings()\n",
    "\n",
    "            mse = self._compute_mse()\n",
    "            loss_values.append(mse)\n",
    "\n",
    "            elapsed = time.time() - start_time\n",
    "            print(f\"[Iteration {it}/{iterations}] MSE: {mse:.5f} | Time: {elapsed:.2f}s\")\n",
    "\n",
    "        print(\"IALS end finally\")\n",
    "        return self.user_embeddings, self.item_embeddings, loss_values\n",
    "\n",
    "    def _update_user_embeddings(self):\n",
    "        I = torch.eye(self.k, device=self.device)\n",
    "        Y = self.item_embeddings\n",
    "\n",
    "        for user in range(self.num_users):\n",
    "            start, end = self.train_csr.indptr[user], self.train_csr.indptr[user+1]\n",
    "            item_ids = self.train_csr.indices[start:end]\n",
    "\n",
    "            if len(item_ids) == 0:\n",
    "                continue\n",
    "\n",
    "            Y_u = Y[item_ids]\n",
    "            confidence = 1 + self.alpha * torch.ones(len(item_ids), device=self.device)\n",
    "\n",
    "            A = (Y_u.t() * confidence) @ Y_u + self.lam * I\n",
    "            b = (confidence @ Y_u)\n",
    "\n",
    "            self.user_embeddings[user] = torch.linalg.solve(A, b)\n",
    "\n",
    "    def _update_item_embeddings(self):\n",
    "        I = torch.eye(self.k, device=self.device)\n",
    "        X = self.user_embeddings\n",
    "\n",
    "        for item in range(self.num_items):\n",
    "            start, end = self.train_csc.indptr[item], self.train_csc.indptr[item+1]\n",
    "            user_ids = self.train_csc.indices[start:end]\n",
    "\n",
    "            if len(user_ids) == 0:\n",
    "                continue\n",
    "\n",
    "            X_i = X[user_ids]\n",
    "            confidence = 1 + self.alpha * torch.ones(len(user_ids), device=self.device)\n",
    "\n",
    "            A = (X_i.t() * confidence) @ X_i + self.lam * I\n",
    "            b = (confidence @ X_i)\n",
    "\n",
    "            self.item_embeddings[item] = torch.linalg.solve(A, b)\n",
    "\n",
    "    def _compute_mse(self):\n",
    "        X = self.user_embeddings\n",
    "        Y = self.item_embeddings\n",
    "        mse = 0\n",
    "        count = 0\n",
    "\n",
    "        if self.test_matrix is None:\n",
    "            return 0.0\n",
    "\n",
    "        test_csr = self.test_matrix.tocsr()\n",
    "\n",
    "        for user in range(test_csr.shape[0]):\n",
    "            start, end = test_csr.indptr[user], test_csr.indptr[user+1]\n",
    "            item_ids = test_csr.indices[start:end]\n",
    "\n",
    "            if len(item_ids) == 0:\n",
    "                continue\n",
    "\n",
    "            preds = (X[user] @ Y[item_ids].T).detach().cpu().numpy()\n",
    "            mse += np.sum((preds - 1) ** 2)\n",
    "            count += len(item_ids)\n",
    "\n",
    "        return mse / max(count, 1)"
   ]
  },
  {
   "cell_type": "code",
   "execution_count": 26,
   "id": "a13ee853-9ce1-4737-b71b-a9be99cb440b",
   "metadata": {
    "execution": {
     "iopub.execute_input": "2025-04-27T11:29:17.315291Z",
     "iopub.status.busy": "2025-04-27T11:29:17.315037Z",
     "iopub.status.idle": "2025-04-27T11:34:50.095273Z",
     "shell.execute_reply": "2025-04-27T11:34:50.094630Z",
     "shell.execute_reply.started": "2025-04-27T11:29:17.315272Z"
    },
    "trusted": true
   },
   "outputs": [
    {
     "name": "stdout",
     "output_type": "stream",
     "text": [
      "IALS start\n",
      "[Iteration 1/10] MSE: 1.12019 | Time: 33.42s\n",
      "[Iteration 2/10] MSE: 0.49185 | Time: 33.26s\n",
      "[Iteration 3/10] MSE: 0.29662 | Time: 33.26s\n",
      "[Iteration 4/10] MSE: 0.20638 | Time: 33.21s\n",
      "[Iteration 5/10] MSE: 0.16538 | Time: 33.25s\n",
      "[Iteration 6/10] MSE: 0.14506 | Time: 33.32s\n",
      "[Iteration 7/10] MSE: 0.13497 | Time: 33.22s\n",
      "[Iteration 8/10] MSE: 0.13070 | Time: 33.28s\n",
      "[Iteration 9/10] MSE: 0.12912 | Time: 33.24s\n",
      "[Iteration 10/10] MSE: 0.12879 | Time: 33.30s\n",
      "IALS end finally\n"
     ]
    }
   ],
   "source": [
    "ials = IALS(train_ratings, test_ratings)\n",
    "\n",
    "k = 96\n",
    "lam = 1 \n",
    "iterations = 10\n",
    "alpha = 0.1\n",
    "ials_user_embeddings, ials_item_embeddings, ials_loss_values = ials.train(k, lam, iterations)"
   ]
  },
  {
   "cell_type": "code",
   "execution_count": 27,
   "id": "71271ea1-8548-4ea6-8273-4f012ddedbe1",
   "metadata": {
    "execution": {
     "iopub.execute_input": "2025-04-27T11:34:54.746345Z",
     "iopub.status.busy": "2025-04-27T11:34:54.745766Z",
     "iopub.status.idle": "2025-04-27T11:34:54.875567Z",
     "shell.execute_reply": "2025-04-27T11:34:54.874931Z",
     "shell.execute_reply.started": "2025-04-27T11:34:54.746326Z"
    },
    "trusted": true
   },
   "outputs": [
    {
     "data": {
      "image/png": "[encoded data removed]",
      "text/plain": [
       "<Figure size 640x480 with 1 Axes>"
      ]
     },
     "metadata": {},
     "output_type": "display_data"
    }
   ],
   "source": [
    "plt.plot(ials_loss_values)\n",
    "plt.title(\"IALS MSE vs Iteration\")\n",
    "plt.xlabel(\"Iter\")\n",
    "plt.ylabel(\"Loss\")\n",
    "plt.grid()\n",
    "plt.show()\n"
   ]
  },
  {
   "cell_type": "markdown",
   "id": "ce1d293f",
   "metadata": {
    "id": "ce1d293f"
   },
   "source": [
    "## Compute MRR@100 metric for test users\n",
    "\n",
    "For ALS and IALS algorithms.\n",
    "\n",
    "**Don't forget to use full dataset!**"
   ]
  },
  {
   "cell_type": "code",
   "execution_count": 28,
   "id": "cb38414e-f5fd-4833-9f14-9176327e169d",
   "metadata": {
    "execution": {
     "iopub.execute_input": "2025-04-27T11:35:03.053834Z",
     "iopub.status.busy": "2025-04-27T11:35:03.053357Z",
     "iopub.status.idle": "2025-04-27T11:35:03.059706Z",
     "shell.execute_reply": "2025-04-27T11:35:03.059061Z",
     "shell.execute_reply.started": "2025-04-27T11:35:03.053807Z"
    },
    "trusted": true
   },
   "outputs": [],
   "source": [
    "def compute_mrr_at_100(user_embeddings, item_embeddings, train_matrix, test_matrix, device='cuda'):\n",
    "    user_embeddings = user_embeddings.to(device)\n",
    "    item_embeddings = item_embeddings.to(device)\n",
    "\n",
    "    mrrs = []\n",
    "    test_csr = test_matrix.tocsr()\n",
    "    train_csr = train_matrix.tocsr()\n",
    "\n",
    "    for user in range(user_embeddings.shape[0]):\n",
    "        start, end = test_csr.indptr[user], test_csr.indptr[user+1]\n",
    "        true_items = test_csr.indices[start:end]\n",
    "        if len(true_items) == 0:\n",
    "            continue \n",
    "        scores = torch.matmul(user_embeddings[user], item_embeddings.T)\n",
    "        train_items = train_csr.indices[train_csr.indptr[user]:train_csr.indptr[user+1]]\n",
    "        scores[train_items] = -float('inf')\n",
    "        topk_indices = torch.topk(scores, 100).indices.cpu().numpy()\n",
    "        rank = None\n",
    "        for idx, item in enumerate(topk_indices, start=1):\n",
    "            if item in true_items:\n",
    "                rank = idx\n",
    "                break\n",
    "\n",
    "        if rank is not None:\n",
    "            mrrs.append(1 / rank)\n",
    "        else:\n",
    "            mrrs.append(0)\n",
    "\n",
    "    return np.mean(mrrs)"
   ]
  },
  {
   "cell_type": "code",
   "execution_count": 29,
   "id": "c9434cdc-586d-431b-aa94-e4a8a81c4665",
   "metadata": {
    "execution": {
     "iopub.execute_input": "2025-04-27T11:35:04.666842Z",
     "iopub.status.busy": "2025-04-27T11:35:04.666316Z",
     "iopub.status.idle": "2025-04-27T11:35:05.594527Z",
     "shell.execute_reply": "2025-04-27T11:35:05.593814Z",
     "shell.execute_reply.started": "2025-04-27T11:35:04.666815Z"
    },
    "trusted": true
   },
   "outputs": [
    {
     "name": "stdout",
     "output_type": "stream",
     "text": [
      "ALS MRR@100: 0.00061\n"
     ]
    }
   ],
   "source": [
    "mrr_als = compute_mrr_at_100(user_embeddings, item_embeddings, train_ratings, test_ratings)\n",
    "print(f\"ALS MRR@100: {mrr_als:.5f}\")"
   ]
  },
  {
   "cell_type": "code",
   "execution_count": 30,
   "id": "7d179494-5059-47ac-ac09-a6e0cfec8adb",
   "metadata": {
    "execution": {
     "iopub.execute_input": "2025-04-27T11:35:07.197100Z",
     "iopub.status.busy": "2025-04-27T11:35:07.196510Z",
     "iopub.status.idle": "2025-04-27T11:35:08.046695Z",
     "shell.execute_reply": "2025-04-27T11:35:08.045889Z",
     "shell.execute_reply.started": "2025-04-27T11:35:07.197077Z"
    },
    "trusted": true
   },
   "outputs": [
    {
     "name": "stdout",
     "output_type": "stream",
     "text": [
      "IALS MRR@100: 0.00159\n"
     ]
    }
   ],
   "source": [
    "mrr_ials = compute_mrr_at_100(ials_user_embeddings, ials_item_embeddings, train_ratings, test_ratings)\n",
    "print(f\"IALS MRR@100: {mrr_ials:.5f}\")"
   ]
  },
  {
   "cell_type": "markdown",
   "id": "0ec74ade",
   "metadata": {
    "id": "0ec74ade"
   },
   "source": [
    "## Adjust hyperparameters of IALS to maximize MRR (10 points)\n",
    "\n",
    "Main hyperparameters are regularization and weights for implicit case."
   ]
  },
  {
   "cell_type": "code",
   "execution_count": 33,
   "id": "e6dd2f2a-a10d-4c6b-afee-b80482baf197",
   "metadata": {
    "execution": {
     "iopub.execute_input": "2025-04-27T11:37:46.078150Z",
     "iopub.status.busy": "2025-04-27T11:37:46.077693Z",
     "iopub.status.idle": "2025-04-27T11:37:46.084214Z",
     "shell.execute_reply": "2025-04-27T11:37:46.083625Z",
     "shell.execute_reply.started": "2025-04-27T11:37:46.078130Z"
    },
    "trusted": true
   },
   "outputs": [],
   "source": [
    "def tune_hyperparameters(train_matrix, test_matrix, algorithm='ALS', k=96, iterations=15):\n",
    "    regularization_values = [0.01, 0.05, 0.1, 0.5, 1.0]\n",
    "    alpha_values = [0.1, 0.5, 1.0, 2.0] if algorithm == 'IALS' else [None]  \n",
    "    best_mrr = -1\n",
    "    best_lam = None\n",
    "    best_alpha = None\n",
    "    best_user_embeddings = None\n",
    "    best_item_embeddings = None\n",
    "    for lam in regularization_values:\n",
    "        for alpha in alpha_values:\n",
    "            print(f\"Tuning: {algorithm}, lam={lam}, alpha={alpha}\")\n",
    "            if algorithm == 'IALS':\n",
    "                model = IALS(train_matrix, test_matrix)\n",
    "              \n",
    "                user_embeddings, item_embeddings, _ = model.train(k=k, lam=lam, iterations=iterations, alpha=alpha)\n",
    "            else: \n",
    "                model = ALS(train_matrix, test_matrix)\n",
    "                user_embeddings, item_embeddings, _ = model.train(k=k, lam=lam, iterations=iterations)\n",
    " \n",
    "            mrr = compute_mrr_at_100(user_embeddings, item_embeddings, train_matrix, test_matrix)\n",
    "            print(f\"MRR@100: {mrr:.5f}\")\n",
    "            if mrr > best_mrr:\n",
    "                best_mrr = mrr\n",
    "                best_lam = lam\n",
    "                best_alpha = alpha if algorithm == 'IALS' else None\n",
    "                best_user_embeddings = user_embeddings\n",
    "                best_item_embeddings = item_embeddings\n",
    "    \n",
    "    return best_lam, best_alpha, best_user_embeddings, best_item_embeddings,best_mrr\n"
   ]
  },
  {
   "cell_type": "code",
   "execution_count": 34,
   "id": "ed890c07-370a-4146-b674-daf1007ee014",
   "metadata": {
    "execution": {
     "iopub.execute_input": "2025-04-27T11:37:47.637974Z",
     "iopub.status.busy": "2025-04-27T11:37:47.637294Z",
     "iopub.status.idle": "2025-04-27T12:33:27.880042Z",
     "shell.execute_reply": "2025-04-27T12:33:27.879360Z",
     "shell.execute_reply.started": "2025-04-27T11:37:47.637950Z"
    },
    "trusted": true
   },
   "outputs": [
    {
     "name": "stdout",
     "output_type": "stream",
     "text": [
      "Tuning: IALS, lam=0.01, alpha=0.1\n",
      "IALS start\n",
      "[Iteration 1/5] MSE: 1.35109 | Time: 33.45s\n",
      "[Iteration 2/5] MSE: 0.53018 | Time: 33.42s\n",
      "[Iteration 3/5] MSE: 0.28004 | Time: 33.32s\n",
      "[Iteration 4/5] MSE: 0.19373 | Time: 33.25s\n",
      "[Iteration 5/5] MSE: 0.15743 | Time: 33.25s\n",
      "IALS end finally\n",
      "MRR@100: 0.00128\n",
      "Tuning: IALS, lam=0.01, alpha=0.5\n",
      "IALS start\n",
      "[Iteration 1/5] MSE: 1.17561 | Time: 33.27s\n",
      "[Iteration 2/5] MSE: 0.56261 | Time: 33.27s\n",
      "[Iteration 3/5] MSE: 0.31325 | Time: 33.29s\n",
      "[Iteration 4/5] MSE: 0.20976 | Time: 33.32s\n",
      "[Iteration 5/5] MSE: 0.16972 | Time: 33.36s\n",
      "IALS end finally\n",
      "MRR@100: 0.00223\n",
      "Tuning: IALS, lam=0.01, alpha=1.0\n",
      "IALS start\n",
      "[Iteration 1/5] MSE: 1.13541 | Time: 33.22s\n",
      "[Iteration 2/5] MSE: 0.49595 | Time: 33.32s\n",
      "[Iteration 3/5] MSE: 0.28949 | Time: 33.29s\n",
      "[Iteration 4/5] MSE: 0.20524 | Time: 33.31s\n",
      "[Iteration 5/5] MSE: 0.16539 | Time: 33.33s\n",
      "IALS end finally\n",
      "MRR@100: 0.00292\n",
      "Tuning: IALS, lam=0.01, alpha=2.0\n",
      "IALS start\n",
      "[Iteration 1/5] MSE: 1.24604 | Time: 33.32s\n",
      "[Iteration 2/5] MSE: 0.56015 | Time: 33.26s\n",
      "[Iteration 3/5] MSE: 0.33126 | Time: 33.28s\n",
      "[Iteration 4/5] MSE: 0.23045 | Time: 33.34s\n",
      "[Iteration 5/5] MSE: 0.18067 | Time: 33.27s\n",
      "IALS end finally\n",
      "MRR@100: 0.00231\n",
      "Tuning: IALS, lam=0.05, alpha=0.1\n",
      "IALS start\n",
      "[Iteration 1/5] MSE: 0.96973 | Time: 33.43s\n",
      "[Iteration 2/5] MSE: 0.48833 | Time: 33.25s\n",
      "[Iteration 3/5] MSE: 0.30655 | Time: 33.25s\n",
      "[Iteration 4/5] MSE: 0.22088 | Time: 33.27s\n",
      "[Iteration 5/5] MSE: 0.17536 | Time: 33.23s\n",
      "IALS end finally\n",
      "MRR@100: 0.00322\n",
      "Tuning: IALS, lam=0.05, alpha=0.5\n",
      "IALS start\n",
      "[Iteration 1/5] MSE: 1.00378 | Time: 33.32s\n",
      "[Iteration 2/5] MSE: 0.48050 | Time: 33.17s\n",
      "[Iteration 3/5] MSE: 0.29731 | Time: 33.27s\n",
      "[Iteration 4/5] MSE: 0.21372 | Time: 33.31s\n",
      "[Iteration 5/5] MSE: 0.17240 | Time: 33.35s\n",
      "IALS end finally\n",
      "MRR@100: 0.00106\n",
      "Tuning: IALS, lam=0.05, alpha=1.0\n",
      "IALS start\n",
      "[Iteration 1/5] MSE: 0.99918 | Time: 33.30s\n",
      "[Iteration 2/5] MSE: 0.48544 | Time: 33.38s\n",
      "[Iteration 3/5] MSE: 0.28612 | Time: 33.34s\n",
      "[Iteration 4/5] MSE: 0.19902 | Time: 33.29s\n",
      "[Iteration 5/5] MSE: 0.16060 | Time: 33.38s\n",
      "IALS end finally\n",
      "MRR@100: 0.00197\n",
      "Tuning: IALS, lam=0.05, alpha=2.0\n",
      "IALS start\n",
      "[Iteration 1/5] MSE: 1.30676 | Time: 33.28s\n",
      "[Iteration 2/5] MSE: 0.51013 | Time: 33.27s\n",
      "[Iteration 3/5] MSE: 0.29791 | Time: 33.34s\n",
      "[Iteration 4/5] MSE: 0.20551 | Time: 33.40s\n",
      "[Iteration 5/5] MSE: 0.16431 | Time: 33.35s\n",
      "IALS end finally\n",
      "MRR@100: 0.00231\n",
      "Tuning: IALS, lam=0.1, alpha=0.1\n",
      "IALS start\n",
      "[Iteration 1/5] MSE: 1.00607 | Time: 33.42s\n",
      "[Iteration 2/5] MSE: 0.55402 | Time: 33.29s\n",
      "[Iteration 3/5] MSE: 0.36018 | Time: 33.33s\n",
      "[Iteration 4/5] MSE: 0.26161 | Time: 33.30s\n",
      "[Iteration 5/5] MSE: 0.20475 | Time: 33.19s\n",
      "IALS end finally\n",
      "MRR@100: 0.00246\n",
      "Tuning: IALS, lam=0.1, alpha=0.5\n",
      "IALS start\n",
      "[Iteration 1/5] MSE: 1.04499 | Time: 33.32s\n",
      "[Iteration 2/5] MSE: 0.58248 | Time: 33.26s\n",
      "[Iteration 3/5] MSE: 0.36809 | Time: 33.29s\n",
      "[Iteration 4/5] MSE: 0.26179 | Time: 33.31s\n",
      "[Iteration 5/5] MSE: 0.20192 | Time: 33.30s\n",
      "IALS end finally\n",
      "MRR@100: 0.00232\n",
      "Tuning: IALS, lam=0.1, alpha=1.0\n",
      "IALS start\n",
      "[Iteration 1/5] MSE: 1.08586 | Time: 33.31s\n",
      "[Iteration 2/5] MSE: 0.54994 | Time: 33.28s\n",
      "[Iteration 3/5] MSE: 0.33633 | Time: 33.24s\n",
      "[Iteration 4/5] MSE: 0.24285 | Time: 33.24s\n",
      "[Iteration 5/5] MSE: 0.19111 | Time: 33.30s\n",
      "IALS end finally\n",
      "MRR@100: 0.00214\n",
      "Tuning: IALS, lam=0.1, alpha=2.0\n",
      "IALS start\n",
      "[Iteration 1/5] MSE: 0.98397 | Time: 33.24s\n",
      "[Iteration 2/5] MSE: 0.47997 | Time: 33.30s\n",
      "[Iteration 3/5] MSE: 0.28516 | Time: 33.41s\n",
      "[Iteration 4/5] MSE: 0.20299 | Time: 33.24s\n",
      "[Iteration 5/5] MSE: 0.16349 | Time: 33.30s\n",
      "IALS end finally\n",
      "MRR@100: 0.00195\n",
      "Tuning: IALS, lam=0.5, alpha=0.1\n",
      "IALS start\n",
      "[Iteration 1/5] MSE: 0.84069 | Time: 33.20s\n",
      "[Iteration 2/5] MSE: 0.57155 | Time: 33.20s\n",
      "[Iteration 3/5] MSE: 0.43799 | Time: 33.12s\n",
      "[Iteration 4/5] MSE: 0.35626 | Time: 33.21s\n",
      "[Iteration 5/5] MSE: 0.30117 | Time: 33.17s\n",
      "IALS end finally\n",
      "MRR@100: 0.00415\n",
      "Tuning: IALS, lam=0.5, alpha=0.5\n",
      "IALS start\n",
      "[Iteration 1/5] MSE: 0.86586 | Time: 33.16s\n",
      "[Iteration 2/5] MSE: 0.58616 | Time: 33.24s\n",
      "[Iteration 3/5] MSE: 0.44003 | Time: 33.12s\n",
      "[Iteration 4/5] MSE: 0.35204 | Time: 33.10s\n",
      "[Iteration 5/5] MSE: 0.29315 | Time: 33.15s\n",
      "IALS end finally\n",
      "MRR@100: 0.00320\n",
      "Tuning: IALS, lam=0.5, alpha=1.0\n",
      "IALS start\n",
      "[Iteration 1/5] MSE: 0.89561 | Time: 33.16s\n",
      "[Iteration 2/5] MSE: 0.57691 | Time: 33.14s\n",
      "[Iteration 3/5] MSE: 0.41862 | Time: 33.20s\n",
      "[Iteration 4/5] MSE: 0.32497 | Time: 33.11s\n",
      "[Iteration 5/5] MSE: 0.26339 | Time: 33.17s\n",
      "IALS end finally\n",
      "MRR@100: 0.00376\n",
      "Tuning: IALS, lam=0.5, alpha=2.0\n",
      "IALS start\n",
      "[Iteration 1/5] MSE: 1.01146 | Time: 33.28s\n",
      "[Iteration 2/5] MSE: 0.60804 | Time: 33.29s\n",
      "[Iteration 3/5] MSE: 0.42606 | Time: 33.25s\n",
      "[Iteration 4/5] MSE: 0.32415 | Time: 33.24s\n",
      "[Iteration 5/5] MSE: 0.25787 | Time: 33.25s\n",
      "IALS end finally\n",
      "MRR@100: 0.00264\n",
      "Tuning: IALS, lam=1.0, alpha=0.1\n",
      "IALS start\n",
      "[Iteration 1/5] MSE: 0.86418 | Time: 33.08s\n",
      "[Iteration 2/5] MSE: 0.61464 | Time: 33.11s\n",
      "[Iteration 3/5] MSE: 0.46230 | Time: 33.06s\n",
      "[Iteration 4/5] MSE: 0.36918 | Time: 33.08s\n",
      "[Iteration 5/5] MSE: 0.30417 | Time: 33.15s\n",
      "IALS end finally\n",
      "MRR@100: 0.00756\n",
      "Tuning: IALS, lam=1.0, alpha=0.5\n",
      "IALS start\n",
      "[Iteration 1/5] MSE: 0.85175 | Time: 33.25s\n",
      "[Iteration 2/5] MSE: 0.60217 | Time: 33.14s\n",
      "[Iteration 3/5] MSE: 0.46173 | Time: 33.09s\n",
      "[Iteration 4/5] MSE: 0.37552 | Time: 33.13s\n",
      "[Iteration 5/5] MSE: 0.31603 | Time: 33.12s\n",
      "IALS end finally\n",
      "MRR@100: 0.00633\n",
      "Tuning: IALS, lam=1.0, alpha=1.0\n",
      "IALS start\n",
      "[Iteration 1/5] MSE: 0.86279 | Time: 33.21s\n",
      "[Iteration 2/5] MSE: 0.60636 | Time: 33.11s\n",
      "[Iteration 3/5] MSE: 0.46550 | Time: 33.14s\n",
      "[Iteration 4/5] MSE: 0.37720 | Time: 33.21s\n",
      "[Iteration 5/5] MSE: 0.31751 | Time: 33.29s\n",
      "IALS end finally\n",
      "MRR@100: 0.00555\n",
      "Tuning: IALS, lam=1.0, alpha=2.0\n",
      "IALS start\n",
      "[Iteration 1/5] MSE: 0.87651 | Time: 33.23s\n",
      "[Iteration 2/5] MSE: 0.59714 | Time: 33.23s\n",
      "[Iteration 3/5] MSE: 0.45222 | Time: 33.29s\n",
      "[Iteration 4/5] MSE: 0.36215 | Time: 33.19s\n",
      "[Iteration 5/5] MSE: 0.30062 | Time: 33.21s\n",
      "IALS end finally\n",
      "MRR@100: 0.00376\n",
      "\n",
      " best hyperparameter:\n",
      "Algorithm: IALS\n",
      "Regularization (lam): 1.0\n",
      "Implicit Feedback Weight (alpha): 0.1\n",
      "Best MRR@100: 0.00756\n"
     ]
    }
   ],
   "source": [
    "best_lam_ials, best_alpha_ials, best_user_embeddings_ials, best_item_embeddings_ials, best_mrr = tune_hyperparameters(\n",
    "    train_matrix=train_ratings, test_matrix=test_ratings, algorithm='IALS', k=96, iterations=5\n",
    ")\n",
    "\n",
    "print(\"\\n best hyperparameter:\")\n",
    "print(f\"Algorithm: IALS\")\n",
    "print(f\"Regularization (lam): {best_lam_ials}\")\n",
    "print(f\"Implicit Feedback Weight (alpha): {best_alpha_ials}\")\n",
    "print(f\"Best MRR@100: {best_mrr:.5f}\")"
   ]
  },
  {
   "cell_type": "markdown",
   "id": "9ea3d1c3",
   "metadata": {
    "id": "9ea3d1c3"
   },
   "source": [
    "\n",
    "Optimal parameters of IALS are:\n",
    "\n",
    "1. Regularization (lam): 1.0\n",
    "2. Implicit Feedback Weight (alpha): 0.1\n",
    "3. Best MRR@100: 0.00756"
   ]
  },
  {
   "cell_type": "markdown",
   "id": "ae6af1b0-e01a-4ff8-8c97-6b37b0426e10",
   "metadata": {},
   "source": []
  },
  {
   "cell_type": "markdown",
   "id": "4b1bfd4f",
   "metadata": {
    "id": "4b1bfd4f"
   },
   "source": [
    "## Get similarities from item2item CF (10 points)\n",
    "\n",
    "Item2item can be taken from the first homework, SLIM was implemented in the class.\n",
    "\n",
    "Alternatively you could use libraries, but in this case you will need to convert dataset to their format.\n",
    "\n",
    "You need to compute only item similarities, not predictions for users.\n",
    "You need to implement 4 similarity functions:\n",
    "\n",
    "Dot product (intersection)\n",
    "Jaccard index (intersection over union)\n",
    "Pearson correlation\n",
    "Pearson correlation with decreasing coefficient"
   ]
  },
  {
   "cell_type": "code",
   "execution_count": null,
   "id": "373ae4c3-9529-4e71-8c2e-b1e4a5070e77",
   "metadata": {
    "trusted": true
   },
   "outputs": [],
   "source": [
    "def compute_item_similarities(user_item_matrix, similarity_type='cosine', top_k, batch_size=500):\n",
    "    ui_csc = user_item_matrix.tocsc()\n",
    "    num_items = ui_csc.shape[1]\n",
    "    if similarity_type in ('cosine', 'pearson'):\n",
    "        item_sumsq = np.array(ui_csc.power(2).sum(axis=0)).ravel()\n",
    "        norms = np.sqrt(item_sumsq)\n",
    "        norms[norms == 0] = 1e-8\n",
    "        \n",
    "    if similarity_type == 'jaccard':\n",
    "        bin_csc = ui_csc.copy()\n",
    "        bin_csc.data[:] = 1\n",
    "        item_counts = np.array(bin_csc.sum(axis=0)).ravel()\n",
    "    rows, cols, vals = [], [], []\n",
    "    for start in tqdm(range(0, num_items, batch_size), desc=f\"{similarity_type} computed\"):\n",
    "        end = min(start + batch_size, num_items)\n",
    "        batch_idx = np.arange(start, end)\n",
    "        batch = ui_csc[:, batch_idx].transpose(copy=False)\n",
    "\n",
    "        if similarity_type == 'cosine':\n",
    "            batch_norm = batch.multiply(1.0 / norms[batch_idx][:, None])\n",
    "            full_norm = ui_csc.multiply(1.0 / norms)\n",
    "            sim_block = batch_norm.dot(full_norm)\n",
    "        elif similarity_type == 'jaccard':\n",
    "            batch_bin = bin_csc[:, batch_idx].transpose(copy=False)\n",
    "            inter = batch_bin.dot(bin_csc)\n",
    "            batch_count = np.array(batch_bin.sum(axis=1)).ravel()[:, None]\n",
    "            union = batch_count + item_counts[None, :] - inter.toarray()\n",
    "            sim_block = sparse.csr_matrix(inter.multiply(1.0) / (union + 1e-8))\n",
    "\n",
    "        elif similarity_type == 'pearson':\n",
    "            means = np.array(batch.mean(axis=1)).ravel()\n",
    "            batch_center = batch.copy().astype(float)\n",
    "            for i_row, m in enumerate(means):\n",
    "                if m != 0:\n",
    "                    batch_center[i_row].data -= m\n",
    "            full_means = np.array(ui_csc.mean(axis=0)).ravel()\n",
    "            full_center = ui_csc.copy().astype(float)\n",
    "            for i_col, m in enumerate(full_means):\n",
    "                if m != 0:\n",
    "                    full_center[:, i_col].data -= m\n",
    "            block_norms = np.sqrt(np.array(batch_center.power(2).sum(axis=1))).ravel()\n",
    "            full_norms = np.sqrt(np.array(full_center.power(2).sum(axis=0))).ravel()\n",
    "            block_norms[block_norms == 0] = 1e-8\n",
    "            full_norms[full_norms == 0] = 1e-8\n",
    "            batch_norm = batch_center.multiply(1.0 / block_norms[:, None])\n",
    "            full_norm = full_center.multiply(1.0 / full_norms)\n",
    "            sim_block = batch_norm.dot(full_norm)\n",
    "\n",
    "        else:\n",
    "            raise ValueError(f\"unknown similarity func: {similarity_type}\")\n",
    "        block = sim_block.tocoo()\n",
    "        for r, c, v in zip(block.row, block.col, block.data):\n",
    "            if r != c and v > 0:\n",
    "                rows.append(start + r)\n",
    "                cols.append(c)\n",
    "                vals.append(v)\n",
    "\n",
    "    sim_matrix = sparse.coo_matrix((vals, (rows, cols)), shape=(num_items, num_items)).tocsr()\n",
    "    return sim_matrix"
   ]
  },
  {
   "cell_type": "code",
   "execution_count": null,
   "id": "a8911470-3be0-4019-801d-6e333d6d4033",
   "metadata": {
    "trusted": true
   },
   "outputs": [],
   "source": [
    "cosine_sim  = compute_item_similarities(user_item_matrix, 'cosine',top_k=50)\n",
    "jaccard_sim = compute_item_similarities(user_item_matrix, 'jaccard',top_k=50)"
   ]
  },
  {
   "cell_type": "markdown",
   "id": "2d6b19e8",
   "metadata": {
    "id": "2d6b19e8"
   },
   "source": [
    "## Compare similarities from four algorithms (20 points)\n",
    "\n",
    "* plot distributions\n",
    "* compute metrics (which you think are relevant)\n",
    "* look at several top similar lists\n",
    "\n",
    "Make conclusion how these methods differ in computing similarities"
   ]
  },
  {
   "cell_type": "code",
   "execution_count": 88,
   "id": "18f2631c-d526-4fc5-aade-0f78ac9f09da",
   "metadata": {
    "execution": {
     "iopub.execute_input": "2025-04-27T15:38:58.138537Z",
     "iopub.status.busy": "2025-04-27T15:38:58.138254Z",
     "iopub.status.idle": "2025-04-27T15:38:58.143430Z",
     "shell.execute_reply": "2025-04-27T15:38:58.142697Z",
     "shell.execute_reply.started": "2025-04-27T15:38:58.138516Z"
    },
    "trusted": true
   },
   "outputs": [],
   "source": [
    "def plot_similarity_distributions(sims, labels, bins=100):\n",
    "    plt.figure(figsize=(10,6))\n",
    "    for sim, label in zip(sims, labels):\n",
    "        plt.hist(sim.data, bins=bins, alpha=0.5, label=label, density=True)\n",
    "    plt.xlabel('Similarity Score')\n",
    "    plt.ylabel('Density')\n",
    "    plt.title('Similarity Score Distributions')\n",
    "    plt.legend()\n",
    "    plt.grid(True)\n",
    "    plt.show()"
   ]
  },
  {
   "cell_type": "code",
   "execution_count": 89,
   "id": "a55f4135-5fbd-405e-9bcb-ed05957735e0",
   "metadata": {
    "execution": {
     "iopub.execute_input": "2025-04-27T15:39:03.685190Z",
     "iopub.status.busy": "2025-04-27T15:39:03.684920Z",
     "iopub.status.idle": "2025-04-27T15:39:06.713059Z",
     "shell.execute_reply": "2025-04-27T15:39:06.712408Z",
     "shell.execute_reply.started": "2025-04-27T15:39:03.685170Z"
    },
    "trusted": true
   },
   "outputs": [
    {
     "data": {
      "image/png": "[encoded data removed]",
      "text/plain": [
       "<Figure size 1000x600 with 1 Axes>"
      ]
     },
     "metadata": {},
     "output_type": "display_data"
    }
   ],
   "source": [
    "labels = ['Cosine', 'Jaccard', 'Pearson']\n",
    "plot_similarity_distributions(\n",
    "    [cosine_sim, jaccard_sim, pearson_sim], labels\n",
    ")"
   ]
  },
  {
   "cell_type": "code",
   "execution_count": 90,
   "id": "4e0d6787-1987-4611-ab1a-9daeda9596a3",
   "metadata": {
    "execution": {
     "iopub.execute_input": "2025-04-27T15:39:09.685912Z",
     "iopub.status.busy": "2025-04-27T15:39:09.685632Z",
     "iopub.status.idle": "2025-04-27T15:39:09.690542Z",
     "shell.execute_reply": "2025-04-27T15:39:09.689799Z",
     "shell.execute_reply.started": "2025-04-27T15:39:09.685893Z"
    },
    "trusted": true
   },
   "outputs": [],
   "source": [
    "def compute_similarity_metrics(sim_matrix):\n",
    "    vals = sim_matrix.data\n",
    "    total = sim_matrix.shape[0] * sim_matrix.shape[1]\n",
    "    return {\n",
    "        'mean': vals.mean(),\n",
    "        'std': vals.std(),\n",
    "        'min': vals.min(),\n",
    "        'max': vals.max(),\n",
    "        'sparsity': 1 - len(vals)/total\n",
    "    }\n"
   ]
  },
  {
   "cell_type": "markdown",
   "id": "c3f4b2ed-164a-48e6-9e9b-96450c11dafd",
   "metadata": {},
   "source": [
    "# Metrics"
   ]
  },
  {
   "cell_type": "code",
   "execution_count": 91,
   "id": "b168b3b4-e991-4b6a-87b9-2b4be00a335d",
   "metadata": {
    "execution": {
     "iopub.execute_input": "2025-04-27T15:39:12.660889Z",
     "iopub.status.busy": "2025-04-27T15:39:12.660578Z",
     "iopub.status.idle": "2025-04-27T15:39:13.473436Z",
     "shell.execute_reply": "2025-04-27T15:39:13.472850Z",
     "shell.execute_reply.started": "2025-04-27T15:39:12.660868Z"
    },
    "trusted": true
   },
   "outputs": [
    {
     "name": "stdout",
     "output_type": "stream",
     "text": [
      "\n",
      "Similarity mtrics\n",
      "Cosine: {'mean': 0.15353222023015434, 'std': 0.15318802181056737, 'min': 0.004943473238901381, 'max': 1.0000000000000069, 'sparsity': 0.9956501566714054}\n",
      "Jaccard: {'mean': 0.07433981239543391, 'std': 0.11654923081783872, 'min': 0.002164502164455314, 'max': 0.9999999999744245, 'sparsity': 0.9956501566714054}\n",
      "Pearson: {'mean': 0.15353222023015434, 'std': 0.15318802181056737, 'min': 0.004943473238901381, 'max': 1.0000000000000069, 'sparsity': 0.9956501566714054}\n"
     ]
    }
   ],
   "source": [
    "metrics = {lbl: compute_similarity_metrics(sim)\n",
    "           for lbl, sim in zip(labels, [cosine_sim, jaccard_sim, pearson_sim,])}\n",
    "print(\"\\nSimilarity mtrics\")\n",
    "for lbl, met in metrics.items():\n",
    "    print(f\"{lbl}: {met}\")"
   ]
  },
  {
   "cell_type": "markdown",
   "id": "326dd250-5343-41bd-86b4-d7d3eae84d28",
   "metadata": {},
   "source": [
    "# Cosine Similar Items"
   ]
  },
  {
   "cell_type": "code",
   "execution_count": 100,
   "id": "4397d9c6-4ecb-4869-aae4-5b06896df647",
   "metadata": {
    "execution": {
     "iopub.execute_input": "2025-04-27T15:42:28.398243Z",
     "iopub.status.busy": "2025-04-27T15:42:28.397719Z",
     "iopub.status.idle": "2025-04-27T15:42:28.429777Z",
     "shell.execute_reply": "2025-04-27T15:42:28.429172Z",
     "shell.execute_reply.started": "2025-04-27T15:42:28.398220Z"
    },
    "trusted": true
   },
   "outputs": [
    {
     "name": "stdout",
     "output_type": "stream",
     "text": [
      "Item 0 (Original ID 94962) - Что обычно ожидало русских казачек в руках у кавказских горцев. Рассказываем top-5 similar items:\n",
      " -> Item 93250 (Original ID 18152) - Решите пример! with similarity 1.0000\n",
      " -> Item 102201 (Original ID 3865) - Заставлять или договариваться. Как вести себя с аутичным ребенком. with similarity 1.0000\n",
      " -> Item 60672 (Original ID 32525) - Как я делал прививку от коронавируса with similarity 1.0000\n",
      " -> Item 90373 (Original ID 22763) - Как мы проехали на машине от Москвы до Владивостока и потратили 243 тысячи рублей за 2,5 месяца with similarity 0.7071\n",
      " -> Item 76985 (Original ID 44419) - Записки бобров из Москвы - младшие приболели, новости Жу и про сборы with similarity 0.7071\n",
      "--------------------------------------------------\n",
      "Item 1 (Original ID 3972) - Почему Россия решила строить новую скоростную дорогу в Китай в обход дружественного Казахстана top-5 similar items:\n",
      " -> Item 89215 (Original ID 89193) - Знакомство в клубе (рассказ). Часть 10. with similarity 0.3780\n",
      " -> Item 14164 (Original ID 60608) - Сотрудница из Дании поделилась со мной рецептом вкусненького супа: они его так любят что готовят каждую неделю. Делюсь рецептом with similarity 0.3780\n",
      " -> Item 83963 (Original ID 33072) - Объясняем, что делать, если хотите взять б/у машину в кредит, но боитесь, что вам продадут «полуживой» автомобиль with similarity 0.3780\n",
      " -> Item 10971 (Original ID 60359) - Ради улучшения своей экономики Германия вынуждена сократить финансирование остальных еврореспублик with similarity 0.3780\n",
      " -> Item 85669 (Original ID 85618) - Легендарная немецкая группа в стиле eurodance Culture Beat: путь к успеху и главные достижения with similarity 0.3780\n",
      "--------------------------------------------------\n",
      "Item 2 (Original ID 75652) - Наконец-то и власть поняла: «Мигранты приезжают не работать». top-5 similar items:\n",
      " -> Item 76543 (Original ID 76515) - Лучшие маршалы Наполеона. Луи Николя Даву. with similarity 0.4472\n",
      " -> Item 44258 (Original ID 41605) - Как красиво стилизовать простое платье из H&M? 4 варианта with similarity 0.3162\n",
      " -> Item 45639 (Original ID 97998) - Когда становится поздно и ничего не изменить... with similarity 0.3162\n",
      " -> Item 68755 (Original ID 57498) - Были подосиновики красные, а стали серые. \"Закон сохранения гриба\" with similarity 0.3162\n",
      " -> Item 41068 (Original ID 45199) - Риелторы дерут проценты, а покупатели сводят с ума. Как продать квартиру без нервотрепки with similarity 0.3162\n",
      "--------------------------------------------------\n"
     ]
    }
   ],
   "source": [
    "show_top_similar_items_with_names(cosine_sim, sample_items, top_to_bottom_order, item_names)"
   ]
  },
  {
   "cell_type": "markdown",
   "id": "620d1f82-5420-4764-aacd-e97e4cac7a43",
   "metadata": {},
   "source": [
    "# Jaccard Similar Items"
   ]
  },
  {
   "cell_type": "code",
   "execution_count": 94,
   "id": "79189aff-f4b5-4f92-88db-4359f47d8257",
   "metadata": {
    "execution": {
     "iopub.execute_input": "2025-04-27T15:40:58.377905Z",
     "iopub.status.busy": "2025-04-27T15:40:58.377251Z",
     "iopub.status.idle": "2025-04-27T15:40:58.410822Z",
     "shell.execute_reply": "2025-04-27T15:40:58.410206Z",
     "shell.execute_reply.started": "2025-04-27T15:40:58.377882Z"
    },
    "trusted": true
   },
   "outputs": [
    {
     "name": "stdout",
     "output_type": "stream",
     "text": [
      "Jaccard Similar Item\n",
      "Item 0 (Original ID 94962) - Что обычно ожидало русских казачек в руках у кавказских горцев. Рассказываем top-5 similar items:\n",
      " -> Item 93250 (Original ID 18152) - Решите пример! with similarity 1.0000\n",
      " -> Item 102201 (Original ID 3865) - Заставлять или договариваться. Как вести себя с аутичным ребенком. with similarity 1.0000\n",
      " -> Item 60672 (Original ID 32525) - Как я делал прививку от коронавируса with similarity 1.0000\n",
      " -> Item 90373 (Original ID 22763) - Как мы проехали на машине от Москвы до Владивостока и потратили 243 тысячи рублей за 2,5 месяца with similarity 0.5000\n",
      " -> Item 76985 (Original ID 44419) - Записки бобров из Москвы - младшие приболели, новости Жу и про сборы with similarity 0.5000\n",
      "--------------------------------------------------\n",
      "Item 1 (Original ID 3972) - Почему Россия решила строить новую скоростную дорогу в Китай в обход дружественного Казахстана top-5 similar items:\n",
      " -> Item 34944 (Original ID 34988) - Что сделать, чтобы не перегибался шланг, лежащий на бортике ёмкости with similarity 0.1429\n",
      " -> Item 9963 (Original ID 32149) - Кержакское пророчество о появлении \"черной\" звезды рядом с Землей. with similarity 0.1429\n",
      " -> Item 45321 (Original ID 10856) - Сходила на барахолку не зря, купила три Советские куклы. А одна из них оказалась с этикеткой with similarity 0.1429\n",
      " -> Item 14164 (Original ID 60608) - Сотрудница из Дании поделилась со мной рецептом вкусненького супа: они его так любят что готовят каждую неделю. Делюсь рецептом with similarity 0.1429\n",
      " -> Item 85669 (Original ID 85618) - Легендарная немецкая группа в стиле eurodance Culture Beat: путь к успеху и главные достижения with similarity 0.1429\n",
      "--------------------------------------------------\n",
      "Item 2 (Original ID 75652) - Наконец-то и власть поняла: «Мигранты приезжают не работать». top-5 similar items:\n",
      " -> Item 76543 (Original ID 76515) - Лучшие маршалы Наполеона. Луи Николя Даву. with similarity 0.2000\n",
      " -> Item 28844 (Original ID 86534) - Лимита (часть 14) with similarity 0.1765\n",
      " -> Item 18835 (Original ID 68318) - Не надо идти по чужому коридору with similarity 0.1429\n",
      " -> Item 70907 (Original ID 70881) - Побывал в заброшенном городке у Баренцева моря. Да, был когда-то сильный СССР… with similarity 0.1429\n",
      " -> Item 80671 (Original ID 80654) - Он разрушил мою жизнь, а я спасла его with similarity 0.1429\n",
      "--------------------------------------------------\n"
     ]
    }
   ],
   "source": [
    "show_top_similar_items_with_names(jaccard_sim, sample_items, top_to_bottom_order, item_names)"
   ]
  },
  {
   "cell_type": "markdown",
   "id": "8fcce9f2-f522-4945-9eb5-ee6740fcc1af",
   "metadata": {},
   "source": [
    "# Pearson Similar Items"
   ]
  },
  {
   "cell_type": "code",
   "execution_count": 96,
   "id": "60087605-3331-45bb-a419-99fceec586b4",
   "metadata": {
    "execution": {
     "iopub.execute_input": "2025-04-27T15:41:31.951280Z",
     "iopub.status.busy": "2025-04-27T15:41:31.950566Z",
     "iopub.status.idle": "2025-04-27T15:41:31.984935Z",
     "shell.execute_reply": "2025-04-27T15:41:31.984236Z",
     "shell.execute_reply.started": "2025-04-27T15:41:31.951254Z"
    },
    "trusted": true
   },
   "outputs": [
    {
     "name": "stdout",
     "output_type": "stream",
     "text": [
      "Peason Similar Item \n",
      "\n",
      "Item 0 (Original ID 94962) - Что обычно ожидало русских казачек в руках у кавказских горцев. Рассказываем top-5 similar items:\n",
      " -> Item 93250 (Original ID 18152) - Решите пример! with similarity 1.0000\n",
      " -> Item 102201 (Original ID 3865) - Заставлять или договариваться. Как вести себя с аутичным ребенком. with similarity 1.0000\n",
      " -> Item 60672 (Original ID 32525) - Как я делал прививку от коронавируса with similarity 1.0000\n",
      " -> Item 90373 (Original ID 22763) - Как мы проехали на машине от Москвы до Владивостока и потратили 243 тысячи рублей за 2,5 месяца with similarity 0.7071\n",
      " -> Item 76985 (Original ID 44419) - Записки бобров из Москвы - младшие приболели, новости Жу и про сборы with similarity 0.7071\n",
      "--------------------------------------------------\n",
      "Item 1 (Original ID 3972) - Почему Россия решила строить новую скоростную дорогу в Китай в обход дружественного Казахстана top-5 similar items:\n",
      " -> Item 89215 (Original ID 89193) - Знакомство в клубе (рассказ). Часть 10. with similarity 0.3780\n",
      " -> Item 14164 (Original ID 60608) - Сотрудница из Дании поделилась со мной рецептом вкусненького супа: они его так любят что готовят каждую неделю. Делюсь рецептом with similarity 0.3780\n",
      " -> Item 83963 (Original ID 33072) - Объясняем, что делать, если хотите взять б/у машину в кредит, но боитесь, что вам продадут «полуживой» автомобиль with similarity 0.3780\n",
      " -> Item 10971 (Original ID 60359) - Ради улучшения своей экономики Германия вынуждена сократить финансирование остальных еврореспублик with similarity 0.3780\n",
      " -> Item 85669 (Original ID 85618) - Легендарная немецкая группа в стиле eurodance Culture Beat: путь к успеху и главные достижения with similarity 0.3780\n",
      "--------------------------------------------------\n",
      "Item 2 (Original ID 75652) - Наконец-то и власть поняла: «Мигранты приезжают не работать». top-5 similar items:\n",
      " -> Item 76543 (Original ID 76515) - Лучшие маршалы Наполеона. Луи Николя Даву. with similarity 0.4472\n",
      " -> Item 44258 (Original ID 41605) - Как красиво стилизовать простое платье из H&M? 4 варианта with similarity 0.3162\n",
      " -> Item 45639 (Original ID 97998) - Когда становится поздно и ничего не изменить... with similarity 0.3162\n",
      " -> Item 68755 (Original ID 57498) - Были подосиновики красные, а стали серые. \"Закон сохранения гриба\" with similarity 0.3162\n",
      " -> Item 41068 (Original ID 45199) - Риелторы дерут проценты, а покупатели сводят с ума. Как продать квартиру без нервотрепки with similarity 0.3162\n",
      "--------------------------------------------------\n"
     ]
    }
   ],
   "source": [
    "show_top_similar_items_with_names(pearson_sim, sample_items, top_to_bottom_order, item_names)"
   ]
  },
  {
   "cell_type": "markdown",
   "id": "5544dc69",
   "metadata": {
    "ExecuteTime": {
     "end_time": "2023-11-06T05:12:40.299803Z",
     "start_time": "2023-11-06T05:12:40.290403Z"
    },
    "id": "5544dc69"
   },
   "source": [
    "Conclusion:\n",
    "\n",
    "Cosine and Pearson are very close statistically\n",
    "\n",
    "Cosine and Pearson provide meaningful item\n",
    "\n",
    "Jaccard is almost uninformative here and Jaccard is not a good fit here.Jaccard is producing the most extreme results ( 0 or 1)\n",
    "\n",
    "For recommending similar items based on dense representations, Cosine or Pearson similarity is clearly better."
   ]
  },
  {
   "cell_type": "code",
   "execution_count": null,
   "id": "080b19c9-dccb-449b-a295-e2dde4b819a9",
   "metadata": {
    "trusted": true
   },
   "outputs": [],
   "source": []
  }
 ],
 "metadata": {
  "accelerator": "GPU",
  "colab": {
   "gpuType": "T4",
   "provenance": []
  },
  "finalized": {
   "timestamp": 1686173501421,
   "trusted": false
  },
  "kaggle": {
   "accelerator": "nvidiaTeslaT4",
   "dataSources": [
    {
     "datasetId": 7257739,
     "sourceId": 11575739,
     "sourceType": "datasetVersion"
    }
   ],
   "dockerImageVersionId": 31012,
   "isGpuEnabled": true,
   "isInternetEnabled": true,
   "language": "python",
   "sourceType": "notebook"
  },
  "kernelspec": {
   "display_name": "Python 3",
   "language": "python",
   "name": "python3"
  },
  "language_info": {
   "codemirror_mode": {
    "name": "ipython",
    "version": 3
   },
   "file_extension": ".py",
   "mimetype": "text/x-python",
   "name": "python",
   "nbconvert_exporter": "python",
   "pygments_lexer": "ipython3",
   "version": "3.11.11"
  },
  "toc": {
   "base_numbering": 1,
   "nav_menu": {},
   "number_sections": true,
   "sideBar": true,
   "skip_h1_title": false,
   "title_cell": "Table of Contents",
   "title_sidebar": "Contents",
   "toc_cell": false,
   "toc_position": {
    "height": "calc(100% - 180px)",
    "left": "10px",
    "top": "150px",
    "width": "302.398px"
   },
   "toc_section_display": true,
   "toc_window_display": true
  }
 },
 "nbformat": 4,
 "nbformat_minor": 5
}
